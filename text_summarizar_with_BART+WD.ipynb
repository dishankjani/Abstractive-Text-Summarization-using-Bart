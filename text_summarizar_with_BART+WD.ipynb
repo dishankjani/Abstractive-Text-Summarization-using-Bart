{
  "nbformat": 4,
  "nbformat_minor": 0,
  "metadata": {
    "accelerator": "GPU",
    "colab": {
      "name": "text_summarizar_with_BART+WD.ipynb",
      "provenance": [],
      "collapsed_sections": [
        "UlJxjnLQxthS",
        "D_puTCKd-ngv"
      ],
      "toc_visible": true
    },
    "kernelspec": {
      "display_name": "Python 3",
      "name": "python3"
    },
    "widgets": {
      "application/vnd.jupyter.widget-state+json": {
        "988f85a37f3a4428a93702a44b2b67b1": {
          "model_module": "@jupyter-widgets/controls",
          "model_name": "HBoxModel",
          "state": {
            "_view_name": "HBoxView",
            "_dom_classes": [],
            "_model_name": "HBoxModel",
            "_view_module": "@jupyter-widgets/controls",
            "_model_module_version": "1.5.0",
            "_view_count": null,
            "_view_module_version": "1.5.0",
            "box_style": "",
            "layout": "IPY_MODEL_63d9bd8d9b554e6babde6d4bcfe26b3f",
            "_model_module": "@jupyter-widgets/controls",
            "children": [
              "IPY_MODEL_23b6e818396f4dae8537cf445bbd71f3",
              "IPY_MODEL_7cd7a71c1aa94a3ca09d7a948a88d0b6"
            ]
          }
        },
        "63d9bd8d9b554e6babde6d4bcfe26b3f": {
          "model_module": "@jupyter-widgets/base",
          "model_name": "LayoutModel",
          "state": {
            "_view_name": "LayoutView",
            "grid_template_rows": null,
            "right": null,
            "justify_content": null,
            "_view_module": "@jupyter-widgets/base",
            "overflow": null,
            "_model_module_version": "1.2.0",
            "_view_count": null,
            "flex_flow": null,
            "width": null,
            "min_width": null,
            "border": null,
            "align_items": null,
            "bottom": null,
            "_model_module": "@jupyter-widgets/base",
            "top": null,
            "grid_column": null,
            "overflow_y": null,
            "overflow_x": null,
            "grid_auto_flow": null,
            "grid_area": null,
            "grid_template_columns": null,
            "flex": null,
            "_model_name": "LayoutModel",
            "justify_items": null,
            "grid_row": null,
            "max_height": null,
            "align_content": null,
            "visibility": null,
            "align_self": null,
            "height": null,
            "min_height": null,
            "padding": null,
            "grid_auto_rows": null,
            "grid_gap": null,
            "max_width": null,
            "order": null,
            "_view_module_version": "1.2.0",
            "grid_template_areas": null,
            "object_position": null,
            "object_fit": null,
            "grid_auto_columns": null,
            "margin": null,
            "display": null,
            "left": null
          }
        },
        "23b6e818396f4dae8537cf445bbd71f3": {
          "model_module": "@jupyter-widgets/controls",
          "model_name": "FloatProgressModel",
          "state": {
            "_view_name": "ProgressView",
            "style": "IPY_MODEL_3dbca18c32db49a08588eb35e067e9e2",
            "_dom_classes": [],
            "description": "Downloading: 100%",
            "_model_name": "FloatProgressModel",
            "bar_style": "success",
            "max": 898823,
            "_view_module": "@jupyter-widgets/controls",
            "_model_module_version": "1.5.0",
            "value": 898823,
            "_view_count": null,
            "_view_module_version": "1.5.0",
            "orientation": "horizontal",
            "min": 0,
            "description_tooltip": null,
            "_model_module": "@jupyter-widgets/controls",
            "layout": "IPY_MODEL_df9defc3aa384f718cf6775a5d0608c0"
          }
        },
        "7cd7a71c1aa94a3ca09d7a948a88d0b6": {
          "model_module": "@jupyter-widgets/controls",
          "model_name": "HTMLModel",
          "state": {
            "_view_name": "HTMLView",
            "style": "IPY_MODEL_ddca4b25baea4a8fb9e149117210a0ce",
            "_dom_classes": [],
            "description": "",
            "_model_name": "HTMLModel",
            "placeholder": "​",
            "_view_module": "@jupyter-widgets/controls",
            "_model_module_version": "1.5.0",
            "value": " 899k/899k [00:00&lt;00:00, 1.32MB/s]",
            "_view_count": null,
            "_view_module_version": "1.5.0",
            "description_tooltip": null,
            "_model_module": "@jupyter-widgets/controls",
            "layout": "IPY_MODEL_0a8e9f6ee2f04c268b08346baa74aa58"
          }
        },
        "3dbca18c32db49a08588eb35e067e9e2": {
          "model_module": "@jupyter-widgets/controls",
          "model_name": "ProgressStyleModel",
          "state": {
            "_view_name": "StyleView",
            "_model_name": "ProgressStyleModel",
            "description_width": "initial",
            "_view_module": "@jupyter-widgets/base",
            "_model_module_version": "1.5.0",
            "_view_count": null,
            "_view_module_version": "1.2.0",
            "bar_color": null,
            "_model_module": "@jupyter-widgets/controls"
          }
        },
        "df9defc3aa384f718cf6775a5d0608c0": {
          "model_module": "@jupyter-widgets/base",
          "model_name": "LayoutModel",
          "state": {
            "_view_name": "LayoutView",
            "grid_template_rows": null,
            "right": null,
            "justify_content": null,
            "_view_module": "@jupyter-widgets/base",
            "overflow": null,
            "_model_module_version": "1.2.0",
            "_view_count": null,
            "flex_flow": null,
            "width": null,
            "min_width": null,
            "border": null,
            "align_items": null,
            "bottom": null,
            "_model_module": "@jupyter-widgets/base",
            "top": null,
            "grid_column": null,
            "overflow_y": null,
            "overflow_x": null,
            "grid_auto_flow": null,
            "grid_area": null,
            "grid_template_columns": null,
            "flex": null,
            "_model_name": "LayoutModel",
            "justify_items": null,
            "grid_row": null,
            "max_height": null,
            "align_content": null,
            "visibility": null,
            "align_self": null,
            "height": null,
            "min_height": null,
            "padding": null,
            "grid_auto_rows": null,
            "grid_gap": null,
            "max_width": null,
            "order": null,
            "_view_module_version": "1.2.0",
            "grid_template_areas": null,
            "object_position": null,
            "object_fit": null,
            "grid_auto_columns": null,
            "margin": null,
            "display": null,
            "left": null
          }
        },
        "ddca4b25baea4a8fb9e149117210a0ce": {
          "model_module": "@jupyter-widgets/controls",
          "model_name": "DescriptionStyleModel",
          "state": {
            "_view_name": "StyleView",
            "_model_name": "DescriptionStyleModel",
            "description_width": "",
            "_view_module": "@jupyter-widgets/base",
            "_model_module_version": "1.5.0",
            "_view_count": null,
            "_view_module_version": "1.2.0",
            "_model_module": "@jupyter-widgets/controls"
          }
        },
        "0a8e9f6ee2f04c268b08346baa74aa58": {
          "model_module": "@jupyter-widgets/base",
          "model_name": "LayoutModel",
          "state": {
            "_view_name": "LayoutView",
            "grid_template_rows": null,
            "right": null,
            "justify_content": null,
            "_view_module": "@jupyter-widgets/base",
            "overflow": null,
            "_model_module_version": "1.2.0",
            "_view_count": null,
            "flex_flow": null,
            "width": null,
            "min_width": null,
            "border": null,
            "align_items": null,
            "bottom": null,
            "_model_module": "@jupyter-widgets/base",
            "top": null,
            "grid_column": null,
            "overflow_y": null,
            "overflow_x": null,
            "grid_auto_flow": null,
            "grid_area": null,
            "grid_template_columns": null,
            "flex": null,
            "_model_name": "LayoutModel",
            "justify_items": null,
            "grid_row": null,
            "max_height": null,
            "align_content": null,
            "visibility": null,
            "align_self": null,
            "height": null,
            "min_height": null,
            "padding": null,
            "grid_auto_rows": null,
            "grid_gap": null,
            "max_width": null,
            "order": null,
            "_view_module_version": "1.2.0",
            "grid_template_areas": null,
            "object_position": null,
            "object_fit": null,
            "grid_auto_columns": null,
            "margin": null,
            "display": null,
            "left": null
          }
        },
        "42e0322ada5a416181898a078703812e": {
          "model_module": "@jupyter-widgets/controls",
          "model_name": "HBoxModel",
          "state": {
            "_view_name": "HBoxView",
            "_dom_classes": [],
            "_model_name": "HBoxModel",
            "_view_module": "@jupyter-widgets/controls",
            "_model_module_version": "1.5.0",
            "_view_count": null,
            "_view_module_version": "1.5.0",
            "box_style": "",
            "layout": "IPY_MODEL_5aee6bebd71c4341bc388d07e3b77a67",
            "_model_module": "@jupyter-widgets/controls",
            "children": [
              "IPY_MODEL_59c05c6ea8a145ba946ef779ffaa222c",
              "IPY_MODEL_0472a15b104249c39fde7d61dab79f4c"
            ]
          }
        },
        "5aee6bebd71c4341bc388d07e3b77a67": {
          "model_module": "@jupyter-widgets/base",
          "model_name": "LayoutModel",
          "state": {
            "_view_name": "LayoutView",
            "grid_template_rows": null,
            "right": null,
            "justify_content": null,
            "_view_module": "@jupyter-widgets/base",
            "overflow": null,
            "_model_module_version": "1.2.0",
            "_view_count": null,
            "flex_flow": null,
            "width": null,
            "min_width": null,
            "border": null,
            "align_items": null,
            "bottom": null,
            "_model_module": "@jupyter-widgets/base",
            "top": null,
            "grid_column": null,
            "overflow_y": null,
            "overflow_x": null,
            "grid_auto_flow": null,
            "grid_area": null,
            "grid_template_columns": null,
            "flex": null,
            "_model_name": "LayoutModel",
            "justify_items": null,
            "grid_row": null,
            "max_height": null,
            "align_content": null,
            "visibility": null,
            "align_self": null,
            "height": null,
            "min_height": null,
            "padding": null,
            "grid_auto_rows": null,
            "grid_gap": null,
            "max_width": null,
            "order": null,
            "_view_module_version": "1.2.0",
            "grid_template_areas": null,
            "object_position": null,
            "object_fit": null,
            "grid_auto_columns": null,
            "margin": null,
            "display": null,
            "left": null
          }
        },
        "59c05c6ea8a145ba946ef779ffaa222c": {
          "model_module": "@jupyter-widgets/controls",
          "model_name": "FloatProgressModel",
          "state": {
            "_view_name": "ProgressView",
            "style": "IPY_MODEL_6614bebdc51a432081a98d73715d4009",
            "_dom_classes": [],
            "description": "Downloading: 100%",
            "_model_name": "FloatProgressModel",
            "bar_style": "success",
            "max": 456318,
            "_view_module": "@jupyter-widgets/controls",
            "_model_module_version": "1.5.0",
            "value": 456318,
            "_view_count": null,
            "_view_module_version": "1.5.0",
            "orientation": "horizontal",
            "min": 0,
            "description_tooltip": null,
            "_model_module": "@jupyter-widgets/controls",
            "layout": "IPY_MODEL_a8c2cdfe5d524b57848a03af757b53d7"
          }
        },
        "0472a15b104249c39fde7d61dab79f4c": {
          "model_module": "@jupyter-widgets/controls",
          "model_name": "HTMLModel",
          "state": {
            "_view_name": "HTMLView",
            "style": "IPY_MODEL_f3e316de79b945909ecebbb2a9040955",
            "_dom_classes": [],
            "description": "",
            "_model_name": "HTMLModel",
            "placeholder": "​",
            "_view_module": "@jupyter-widgets/controls",
            "_model_module_version": "1.5.0",
            "value": " 456k/456k [00:00&lt;00:00, 1.38MB/s]",
            "_view_count": null,
            "_view_module_version": "1.5.0",
            "description_tooltip": null,
            "_model_module": "@jupyter-widgets/controls",
            "layout": "IPY_MODEL_3362e18cadc345b087994351b1b8bdab"
          }
        },
        "6614bebdc51a432081a98d73715d4009": {
          "model_module": "@jupyter-widgets/controls",
          "model_name": "ProgressStyleModel",
          "state": {
            "_view_name": "StyleView",
            "_model_name": "ProgressStyleModel",
            "description_width": "initial",
            "_view_module": "@jupyter-widgets/base",
            "_model_module_version": "1.5.0",
            "_view_count": null,
            "_view_module_version": "1.2.0",
            "bar_color": null,
            "_model_module": "@jupyter-widgets/controls"
          }
        },
        "a8c2cdfe5d524b57848a03af757b53d7": {
          "model_module": "@jupyter-widgets/base",
          "model_name": "LayoutModel",
          "state": {
            "_view_name": "LayoutView",
            "grid_template_rows": null,
            "right": null,
            "justify_content": null,
            "_view_module": "@jupyter-widgets/base",
            "overflow": null,
            "_model_module_version": "1.2.0",
            "_view_count": null,
            "flex_flow": null,
            "width": null,
            "min_width": null,
            "border": null,
            "align_items": null,
            "bottom": null,
            "_model_module": "@jupyter-widgets/base",
            "top": null,
            "grid_column": null,
            "overflow_y": null,
            "overflow_x": null,
            "grid_auto_flow": null,
            "grid_area": null,
            "grid_template_columns": null,
            "flex": null,
            "_model_name": "LayoutModel",
            "justify_items": null,
            "grid_row": null,
            "max_height": null,
            "align_content": null,
            "visibility": null,
            "align_self": null,
            "height": null,
            "min_height": null,
            "padding": null,
            "grid_auto_rows": null,
            "grid_gap": null,
            "max_width": null,
            "order": null,
            "_view_module_version": "1.2.0",
            "grid_template_areas": null,
            "object_position": null,
            "object_fit": null,
            "grid_auto_columns": null,
            "margin": null,
            "display": null,
            "left": null
          }
        },
        "f3e316de79b945909ecebbb2a9040955": {
          "model_module": "@jupyter-widgets/controls",
          "model_name": "DescriptionStyleModel",
          "state": {
            "_view_name": "StyleView",
            "_model_name": "DescriptionStyleModel",
            "description_width": "",
            "_view_module": "@jupyter-widgets/base",
            "_model_module_version": "1.5.0",
            "_view_count": null,
            "_view_module_version": "1.2.0",
            "_model_module": "@jupyter-widgets/controls"
          }
        },
        "3362e18cadc345b087994351b1b8bdab": {
          "model_module": "@jupyter-widgets/base",
          "model_name": "LayoutModel",
          "state": {
            "_view_name": "LayoutView",
            "grid_template_rows": null,
            "right": null,
            "justify_content": null,
            "_view_module": "@jupyter-widgets/base",
            "overflow": null,
            "_model_module_version": "1.2.0",
            "_view_count": null,
            "flex_flow": null,
            "width": null,
            "min_width": null,
            "border": null,
            "align_items": null,
            "bottom": null,
            "_model_module": "@jupyter-widgets/base",
            "top": null,
            "grid_column": null,
            "overflow_y": null,
            "overflow_x": null,
            "grid_auto_flow": null,
            "grid_area": null,
            "grid_template_columns": null,
            "flex": null,
            "_model_name": "LayoutModel",
            "justify_items": null,
            "grid_row": null,
            "max_height": null,
            "align_content": null,
            "visibility": null,
            "align_self": null,
            "height": null,
            "min_height": null,
            "padding": null,
            "grid_auto_rows": null,
            "grid_gap": null,
            "max_width": null,
            "order": null,
            "_view_module_version": "1.2.0",
            "grid_template_areas": null,
            "object_position": null,
            "object_fit": null,
            "grid_auto_columns": null,
            "margin": null,
            "display": null,
            "left": null
          }
        },
        "1869e1b9d9d04ec4bd8ed56a61e55585": {
          "model_module": "@jupyter-widgets/controls",
          "model_name": "HBoxModel",
          "state": {
            "_view_name": "HBoxView",
            "_dom_classes": [],
            "_model_name": "HBoxModel",
            "_view_module": "@jupyter-widgets/controls",
            "_model_module_version": "1.5.0",
            "_view_count": null,
            "_view_module_version": "1.5.0",
            "box_style": "",
            "layout": "IPY_MODEL_07511bc8eb604749b38f3e9c1a689725",
            "_model_module": "@jupyter-widgets/controls",
            "children": [
              "IPY_MODEL_e76841d123bb4f3aae12d47e50b98f1b",
              "IPY_MODEL_82582c8b24c54b4098bd734720eb9b58"
            ]
          }
        },
        "07511bc8eb604749b38f3e9c1a689725": {
          "model_module": "@jupyter-widgets/base",
          "model_name": "LayoutModel",
          "state": {
            "_view_name": "LayoutView",
            "grid_template_rows": null,
            "right": null,
            "justify_content": null,
            "_view_module": "@jupyter-widgets/base",
            "overflow": null,
            "_model_module_version": "1.2.0",
            "_view_count": null,
            "flex_flow": null,
            "width": null,
            "min_width": null,
            "border": null,
            "align_items": null,
            "bottom": null,
            "_model_module": "@jupyter-widgets/base",
            "top": null,
            "grid_column": null,
            "overflow_y": null,
            "overflow_x": null,
            "grid_auto_flow": null,
            "grid_area": null,
            "grid_template_columns": null,
            "flex": null,
            "_model_name": "LayoutModel",
            "justify_items": null,
            "grid_row": null,
            "max_height": null,
            "align_content": null,
            "visibility": null,
            "align_self": null,
            "height": null,
            "min_height": null,
            "padding": null,
            "grid_auto_rows": null,
            "grid_gap": null,
            "max_width": null,
            "order": null,
            "_view_module_version": "1.2.0",
            "grid_template_areas": null,
            "object_position": null,
            "object_fit": null,
            "grid_auto_columns": null,
            "margin": null,
            "display": null,
            "left": null
          }
        },
        "e76841d123bb4f3aae12d47e50b98f1b": {
          "model_module": "@jupyter-widgets/controls",
          "model_name": "FloatProgressModel",
          "state": {
            "_view_name": "ProgressView",
            "style": "IPY_MODEL_a20034f72a584ceba6303a31fce84296",
            "_dom_classes": [],
            "description": "Downloading: 100%",
            "_model_name": "FloatProgressModel",
            "bar_style": "success",
            "max": 1355863,
            "_view_module": "@jupyter-widgets/controls",
            "_model_module_version": "1.5.0",
            "value": 1355863,
            "_view_count": null,
            "_view_module_version": "1.5.0",
            "orientation": "horizontal",
            "min": 0,
            "description_tooltip": null,
            "_model_module": "@jupyter-widgets/controls",
            "layout": "IPY_MODEL_5d53df1c294c4c59830f98e52a2ac964"
          }
        },
        "82582c8b24c54b4098bd734720eb9b58": {
          "model_module": "@jupyter-widgets/controls",
          "model_name": "HTMLModel",
          "state": {
            "_view_name": "HTMLView",
            "style": "IPY_MODEL_d7ae8ca596c94760bbecdb9a952b7965",
            "_dom_classes": [],
            "description": "",
            "_model_name": "HTMLModel",
            "placeholder": "​",
            "_view_module": "@jupyter-widgets/controls",
            "_model_module_version": "1.5.0",
            "value": " 1.36M/1.36M [00:00&lt;00:00, 6.59MB/s]",
            "_view_count": null,
            "_view_module_version": "1.5.0",
            "description_tooltip": null,
            "_model_module": "@jupyter-widgets/controls",
            "layout": "IPY_MODEL_bdc4ec728f884dc6a310a0c3f8661514"
          }
        },
        "a20034f72a584ceba6303a31fce84296": {
          "model_module": "@jupyter-widgets/controls",
          "model_name": "ProgressStyleModel",
          "state": {
            "_view_name": "StyleView",
            "_model_name": "ProgressStyleModel",
            "description_width": "initial",
            "_view_module": "@jupyter-widgets/base",
            "_model_module_version": "1.5.0",
            "_view_count": null,
            "_view_module_version": "1.2.0",
            "bar_color": null,
            "_model_module": "@jupyter-widgets/controls"
          }
        },
        "5d53df1c294c4c59830f98e52a2ac964": {
          "model_module": "@jupyter-widgets/base",
          "model_name": "LayoutModel",
          "state": {
            "_view_name": "LayoutView",
            "grid_template_rows": null,
            "right": null,
            "justify_content": null,
            "_view_module": "@jupyter-widgets/base",
            "overflow": null,
            "_model_module_version": "1.2.0",
            "_view_count": null,
            "flex_flow": null,
            "width": null,
            "min_width": null,
            "border": null,
            "align_items": null,
            "bottom": null,
            "_model_module": "@jupyter-widgets/base",
            "top": null,
            "grid_column": null,
            "overflow_y": null,
            "overflow_x": null,
            "grid_auto_flow": null,
            "grid_area": null,
            "grid_template_columns": null,
            "flex": null,
            "_model_name": "LayoutModel",
            "justify_items": null,
            "grid_row": null,
            "max_height": null,
            "align_content": null,
            "visibility": null,
            "align_self": null,
            "height": null,
            "min_height": null,
            "padding": null,
            "grid_auto_rows": null,
            "grid_gap": null,
            "max_width": null,
            "order": null,
            "_view_module_version": "1.2.0",
            "grid_template_areas": null,
            "object_position": null,
            "object_fit": null,
            "grid_auto_columns": null,
            "margin": null,
            "display": null,
            "left": null
          }
        },
        "d7ae8ca596c94760bbecdb9a952b7965": {
          "model_module": "@jupyter-widgets/controls",
          "model_name": "DescriptionStyleModel",
          "state": {
            "_view_name": "StyleView",
            "_model_name": "DescriptionStyleModel",
            "description_width": "",
            "_view_module": "@jupyter-widgets/base",
            "_model_module_version": "1.5.0",
            "_view_count": null,
            "_view_module_version": "1.2.0",
            "_model_module": "@jupyter-widgets/controls"
          }
        },
        "bdc4ec728f884dc6a310a0c3f8661514": {
          "model_module": "@jupyter-widgets/base",
          "model_name": "LayoutModel",
          "state": {
            "_view_name": "LayoutView",
            "grid_template_rows": null,
            "right": null,
            "justify_content": null,
            "_view_module": "@jupyter-widgets/base",
            "overflow": null,
            "_model_module_version": "1.2.0",
            "_view_count": null,
            "flex_flow": null,
            "width": null,
            "min_width": null,
            "border": null,
            "align_items": null,
            "bottom": null,
            "_model_module": "@jupyter-widgets/base",
            "top": null,
            "grid_column": null,
            "overflow_y": null,
            "overflow_x": null,
            "grid_auto_flow": null,
            "grid_area": null,
            "grid_template_columns": null,
            "flex": null,
            "_model_name": "LayoutModel",
            "justify_items": null,
            "grid_row": null,
            "max_height": null,
            "align_content": null,
            "visibility": null,
            "align_self": null,
            "height": null,
            "min_height": null,
            "padding": null,
            "grid_auto_rows": null,
            "grid_gap": null,
            "max_width": null,
            "order": null,
            "_view_module_version": "1.2.0",
            "grid_template_areas": null,
            "object_position": null,
            "object_fit": null,
            "grid_auto_columns": null,
            "margin": null,
            "display": null,
            "left": null
          }
        },
        "9eafc04932ab45f8a3cc0fc8d0260daa": {
          "model_module": "@jupyter-widgets/controls",
          "model_name": "HBoxModel",
          "state": {
            "_view_name": "HBoxView",
            "_dom_classes": [],
            "_model_name": "HBoxModel",
            "_view_module": "@jupyter-widgets/controls",
            "_model_module_version": "1.5.0",
            "_view_count": null,
            "_view_module_version": "1.5.0",
            "box_style": "",
            "layout": "IPY_MODEL_c23e315140884833b81298d45b4244b6",
            "_model_module": "@jupyter-widgets/controls",
            "children": [
              "IPY_MODEL_38b86c0ca3234b78bf8c3189e8ac91a3",
              "IPY_MODEL_9fa66a2efc2d402d869eaa1b63fcc437"
            ]
          }
        },
        "c23e315140884833b81298d45b4244b6": {
          "model_module": "@jupyter-widgets/base",
          "model_name": "LayoutModel",
          "state": {
            "_view_name": "LayoutView",
            "grid_template_rows": null,
            "right": null,
            "justify_content": null,
            "_view_module": "@jupyter-widgets/base",
            "overflow": null,
            "_model_module_version": "1.2.0",
            "_view_count": null,
            "flex_flow": null,
            "width": null,
            "min_width": null,
            "border": null,
            "align_items": null,
            "bottom": null,
            "_model_module": "@jupyter-widgets/base",
            "top": null,
            "grid_column": null,
            "overflow_y": null,
            "overflow_x": null,
            "grid_auto_flow": null,
            "grid_area": null,
            "grid_template_columns": null,
            "flex": null,
            "_model_name": "LayoutModel",
            "justify_items": null,
            "grid_row": null,
            "max_height": null,
            "align_content": null,
            "visibility": null,
            "align_self": null,
            "height": null,
            "min_height": null,
            "padding": null,
            "grid_auto_rows": null,
            "grid_gap": null,
            "max_width": null,
            "order": null,
            "_view_module_version": "1.2.0",
            "grid_template_areas": null,
            "object_position": null,
            "object_fit": null,
            "grid_auto_columns": null,
            "margin": null,
            "display": null,
            "left": null
          }
        },
        "38b86c0ca3234b78bf8c3189e8ac91a3": {
          "model_module": "@jupyter-widgets/controls",
          "model_name": "FloatProgressModel",
          "state": {
            "_view_name": "ProgressView",
            "style": "IPY_MODEL_64f7330bdead41728d32498bff26fb22",
            "_dom_classes": [],
            "description": "100%",
            "_model_name": "FloatProgressModel",
            "bar_style": "success",
            "max": 2149,
            "_view_module": "@jupyter-widgets/controls",
            "_model_module_version": "1.5.0",
            "value": 2149,
            "_view_count": null,
            "_view_module_version": "1.5.0",
            "orientation": "horizontal",
            "min": 0,
            "description_tooltip": null,
            "_model_module": "@jupyter-widgets/controls",
            "layout": "IPY_MODEL_1e9443e974674a9a9840ce7555e48e11"
          }
        },
        "9fa66a2efc2d402d869eaa1b63fcc437": {
          "model_module": "@jupyter-widgets/controls",
          "model_name": "HTMLModel",
          "state": {
            "_view_name": "HTMLView",
            "style": "IPY_MODEL_4bffee5d01c84785bd72ff7f51f83cd3",
            "_dom_classes": [],
            "description": "",
            "_model_name": "HTMLModel",
            "placeholder": "​",
            "_view_module": "@jupyter-widgets/controls",
            "_model_module_version": "1.5.0",
            "value": " 2149/2149 [28:51&lt;00:00,  1.24ba/s]",
            "_view_count": null,
            "_view_module_version": "1.5.0",
            "description_tooltip": null,
            "_model_module": "@jupyter-widgets/controls",
            "layout": "IPY_MODEL_4baab5de7ffe494789f19acd620daba4"
          }
        },
        "64f7330bdead41728d32498bff26fb22": {
          "model_module": "@jupyter-widgets/controls",
          "model_name": "ProgressStyleModel",
          "state": {
            "_view_name": "StyleView",
            "_model_name": "ProgressStyleModel",
            "description_width": "initial",
            "_view_module": "@jupyter-widgets/base",
            "_model_module_version": "1.5.0",
            "_view_count": null,
            "_view_module_version": "1.2.0",
            "bar_color": null,
            "_model_module": "@jupyter-widgets/controls"
          }
        },
        "1e9443e974674a9a9840ce7555e48e11": {
          "model_module": "@jupyter-widgets/base",
          "model_name": "LayoutModel",
          "state": {
            "_view_name": "LayoutView",
            "grid_template_rows": null,
            "right": null,
            "justify_content": null,
            "_view_module": "@jupyter-widgets/base",
            "overflow": null,
            "_model_module_version": "1.2.0",
            "_view_count": null,
            "flex_flow": null,
            "width": null,
            "min_width": null,
            "border": null,
            "align_items": null,
            "bottom": null,
            "_model_module": "@jupyter-widgets/base",
            "top": null,
            "grid_column": null,
            "overflow_y": null,
            "overflow_x": null,
            "grid_auto_flow": null,
            "grid_area": null,
            "grid_template_columns": null,
            "flex": null,
            "_model_name": "LayoutModel",
            "justify_items": null,
            "grid_row": null,
            "max_height": null,
            "align_content": null,
            "visibility": null,
            "align_self": null,
            "height": null,
            "min_height": null,
            "padding": null,
            "grid_auto_rows": null,
            "grid_gap": null,
            "max_width": null,
            "order": null,
            "_view_module_version": "1.2.0",
            "grid_template_areas": null,
            "object_position": null,
            "object_fit": null,
            "grid_auto_columns": null,
            "margin": null,
            "display": null,
            "left": null
          }
        },
        "4bffee5d01c84785bd72ff7f51f83cd3": {
          "model_module": "@jupyter-widgets/controls",
          "model_name": "DescriptionStyleModel",
          "state": {
            "_view_name": "StyleView",
            "_model_name": "DescriptionStyleModel",
            "description_width": "",
            "_view_module": "@jupyter-widgets/base",
            "_model_module_version": "1.5.0",
            "_view_count": null,
            "_view_module_version": "1.2.0",
            "_model_module": "@jupyter-widgets/controls"
          }
        },
        "4baab5de7ffe494789f19acd620daba4": {
          "model_module": "@jupyter-widgets/base",
          "model_name": "LayoutModel",
          "state": {
            "_view_name": "LayoutView",
            "grid_template_rows": null,
            "right": null,
            "justify_content": null,
            "_view_module": "@jupyter-widgets/base",
            "overflow": null,
            "_model_module_version": "1.2.0",
            "_view_count": null,
            "flex_flow": null,
            "width": null,
            "min_width": null,
            "border": null,
            "align_items": null,
            "bottom": null,
            "_model_module": "@jupyter-widgets/base",
            "top": null,
            "grid_column": null,
            "overflow_y": null,
            "overflow_x": null,
            "grid_auto_flow": null,
            "grid_area": null,
            "grid_template_columns": null,
            "flex": null,
            "_model_name": "LayoutModel",
            "justify_items": null,
            "grid_row": null,
            "max_height": null,
            "align_content": null,
            "visibility": null,
            "align_self": null,
            "height": null,
            "min_height": null,
            "padding": null,
            "grid_auto_rows": null,
            "grid_gap": null,
            "max_width": null,
            "order": null,
            "_view_module_version": "1.2.0",
            "grid_template_areas": null,
            "object_position": null,
            "object_fit": null,
            "grid_auto_columns": null,
            "margin": null,
            "display": null,
            "left": null
          }
        },
        "a6ae67e095a04fa5a2c6ef191a93dbea": {
          "model_module": "@jupyter-widgets/controls",
          "model_name": "HBoxModel",
          "state": {
            "_view_name": "HBoxView",
            "_dom_classes": [],
            "_model_name": "HBoxModel",
            "_view_module": "@jupyter-widgets/controls",
            "_model_module_version": "1.5.0",
            "_view_count": null,
            "_view_module_version": "1.5.0",
            "box_style": "",
            "layout": "IPY_MODEL_5c37806508274d92bdbfa187a2a53f4c",
            "_model_module": "@jupyter-widgets/controls",
            "children": [
              "IPY_MODEL_01c01df2776d49aea8b85b88f376c872",
              "IPY_MODEL_a95fa0dea9af43bfa375b8c69cd8d974"
            ]
          }
        },
        "5c37806508274d92bdbfa187a2a53f4c": {
          "model_module": "@jupyter-widgets/base",
          "model_name": "LayoutModel",
          "state": {
            "_view_name": "LayoutView",
            "grid_template_rows": null,
            "right": null,
            "justify_content": null,
            "_view_module": "@jupyter-widgets/base",
            "overflow": null,
            "_model_module_version": "1.2.0",
            "_view_count": null,
            "flex_flow": null,
            "width": null,
            "min_width": null,
            "border": null,
            "align_items": null,
            "bottom": null,
            "_model_module": "@jupyter-widgets/base",
            "top": null,
            "grid_column": null,
            "overflow_y": null,
            "overflow_x": null,
            "grid_auto_flow": null,
            "grid_area": null,
            "grid_template_columns": null,
            "flex": null,
            "_model_name": "LayoutModel",
            "justify_items": null,
            "grid_row": null,
            "max_height": null,
            "align_content": null,
            "visibility": null,
            "align_self": null,
            "height": null,
            "min_height": null,
            "padding": null,
            "grid_auto_rows": null,
            "grid_gap": null,
            "max_width": null,
            "order": null,
            "_view_module_version": "1.2.0",
            "grid_template_areas": null,
            "object_position": null,
            "object_fit": null,
            "grid_auto_columns": null,
            "margin": null,
            "display": null,
            "left": null
          }
        },
        "01c01df2776d49aea8b85b88f376c872": {
          "model_module": "@jupyter-widgets/controls",
          "model_name": "FloatProgressModel",
          "state": {
            "_view_name": "ProgressView",
            "style": "IPY_MODEL_2c7b3afc4d3442a2baf6ef8646f11ca6",
            "_dom_classes": [],
            "description": "100%",
            "_model_name": "FloatProgressModel",
            "bar_style": "success",
            "max": 20,
            "_view_module": "@jupyter-widgets/controls",
            "_model_module_version": "1.5.0",
            "value": 20,
            "_view_count": null,
            "_view_module_version": "1.5.0",
            "orientation": "horizontal",
            "min": 0,
            "description_tooltip": null,
            "_model_module": "@jupyter-widgets/controls",
            "layout": "IPY_MODEL_cd69d7504b904dea8082ba03090ba0a1"
          }
        },
        "a95fa0dea9af43bfa375b8c69cd8d974": {
          "model_module": "@jupyter-widgets/controls",
          "model_name": "HTMLModel",
          "state": {
            "_view_name": "HTMLView",
            "style": "IPY_MODEL_865d587d29a248c18961bcbef26a1354",
            "_dom_classes": [],
            "description": "",
            "_model_name": "HTMLModel",
            "placeholder": "​",
            "_view_module": "@jupyter-widgets/controls",
            "_model_module_version": "1.5.0",
            "value": " 20/20 [26:48&lt;00:00, 80.44s/ba]",
            "_view_count": null,
            "_view_module_version": "1.5.0",
            "description_tooltip": null,
            "_model_module": "@jupyter-widgets/controls",
            "layout": "IPY_MODEL_be31139449f045e28fe86b37f57f950c"
          }
        },
        "2c7b3afc4d3442a2baf6ef8646f11ca6": {
          "model_module": "@jupyter-widgets/controls",
          "model_name": "ProgressStyleModel",
          "state": {
            "_view_name": "StyleView",
            "_model_name": "ProgressStyleModel",
            "description_width": "initial",
            "_view_module": "@jupyter-widgets/base",
            "_model_module_version": "1.5.0",
            "_view_count": null,
            "_view_module_version": "1.2.0",
            "bar_color": null,
            "_model_module": "@jupyter-widgets/controls"
          }
        },
        "cd69d7504b904dea8082ba03090ba0a1": {
          "model_module": "@jupyter-widgets/base",
          "model_name": "LayoutModel",
          "state": {
            "_view_name": "LayoutView",
            "grid_template_rows": null,
            "right": null,
            "justify_content": null,
            "_view_module": "@jupyter-widgets/base",
            "overflow": null,
            "_model_module_version": "1.2.0",
            "_view_count": null,
            "flex_flow": null,
            "width": null,
            "min_width": null,
            "border": null,
            "align_items": null,
            "bottom": null,
            "_model_module": "@jupyter-widgets/base",
            "top": null,
            "grid_column": null,
            "overflow_y": null,
            "overflow_x": null,
            "grid_auto_flow": null,
            "grid_area": null,
            "grid_template_columns": null,
            "flex": null,
            "_model_name": "LayoutModel",
            "justify_items": null,
            "grid_row": null,
            "max_height": null,
            "align_content": null,
            "visibility": null,
            "align_self": null,
            "height": null,
            "min_height": null,
            "padding": null,
            "grid_auto_rows": null,
            "grid_gap": null,
            "max_width": null,
            "order": null,
            "_view_module_version": "1.2.0",
            "grid_template_areas": null,
            "object_position": null,
            "object_fit": null,
            "grid_auto_columns": null,
            "margin": null,
            "display": null,
            "left": null
          }
        },
        "865d587d29a248c18961bcbef26a1354": {
          "model_module": "@jupyter-widgets/controls",
          "model_name": "DescriptionStyleModel",
          "state": {
            "_view_name": "StyleView",
            "_model_name": "DescriptionStyleModel",
            "description_width": "",
            "_view_module": "@jupyter-widgets/base",
            "_model_module_version": "1.5.0",
            "_view_count": null,
            "_view_module_version": "1.2.0",
            "_model_module": "@jupyter-widgets/controls"
          }
        },
        "be31139449f045e28fe86b37f57f950c": {
          "model_module": "@jupyter-widgets/base",
          "model_name": "LayoutModel",
          "state": {
            "_view_name": "LayoutView",
            "grid_template_rows": null,
            "right": null,
            "justify_content": null,
            "_view_module": "@jupyter-widgets/base",
            "overflow": null,
            "_model_module_version": "1.2.0",
            "_view_count": null,
            "flex_flow": null,
            "width": null,
            "min_width": null,
            "border": null,
            "align_items": null,
            "bottom": null,
            "_model_module": "@jupyter-widgets/base",
            "top": null,
            "grid_column": null,
            "overflow_y": null,
            "overflow_x": null,
            "grid_auto_flow": null,
            "grid_area": null,
            "grid_template_columns": null,
            "flex": null,
            "_model_name": "LayoutModel",
            "justify_items": null,
            "grid_row": null,
            "max_height": null,
            "align_content": null,
            "visibility": null,
            "align_self": null,
            "height": null,
            "min_height": null,
            "padding": null,
            "grid_auto_rows": null,
            "grid_gap": null,
            "max_width": null,
            "order": null,
            "_view_module_version": "1.2.0",
            "grid_template_areas": null,
            "object_position": null,
            "object_fit": null,
            "grid_auto_columns": null,
            "margin": null,
            "display": null,
            "left": null
          }
        },
        "2c4d4f7fe7f84ff5ab772bcabdbbcacc": {
          "model_module": "@jupyter-widgets/controls",
          "model_name": "HBoxModel",
          "state": {
            "_view_name": "HBoxView",
            "_dom_classes": [],
            "_model_name": "HBoxModel",
            "_view_module": "@jupyter-widgets/controls",
            "_model_module_version": "1.5.0",
            "_view_count": null,
            "_view_module_version": "1.5.0",
            "box_style": "",
            "layout": "IPY_MODEL_24e16ae33a8e4068887f7c137ae3ac42",
            "_model_module": "@jupyter-widgets/controls",
            "children": [
              "IPY_MODEL_a7f894350d7c47d5a2e1b1a39d0f056c",
              "IPY_MODEL_daaec0a8144b45b0a60fdd893c21a525"
            ]
          }
        },
        "24e16ae33a8e4068887f7c137ae3ac42": {
          "model_module": "@jupyter-widgets/base",
          "model_name": "LayoutModel",
          "state": {
            "_view_name": "LayoutView",
            "grid_template_rows": null,
            "right": null,
            "justify_content": null,
            "_view_module": "@jupyter-widgets/base",
            "overflow": null,
            "_model_module_version": "1.2.0",
            "_view_count": null,
            "flex_flow": null,
            "width": null,
            "min_width": null,
            "border": null,
            "align_items": null,
            "bottom": null,
            "_model_module": "@jupyter-widgets/base",
            "top": null,
            "grid_column": null,
            "overflow_y": null,
            "overflow_x": null,
            "grid_auto_flow": null,
            "grid_area": null,
            "grid_template_columns": null,
            "flex": null,
            "_model_name": "LayoutModel",
            "justify_items": null,
            "grid_row": null,
            "max_height": null,
            "align_content": null,
            "visibility": null,
            "align_self": null,
            "height": null,
            "min_height": null,
            "padding": null,
            "grid_auto_rows": null,
            "grid_gap": null,
            "max_width": null,
            "order": null,
            "_view_module_version": "1.2.0",
            "grid_template_areas": null,
            "object_position": null,
            "object_fit": null,
            "grid_auto_columns": null,
            "margin": null,
            "display": null,
            "left": null
          }
        },
        "a7f894350d7c47d5a2e1b1a39d0f056c": {
          "model_module": "@jupyter-widgets/controls",
          "model_name": "FloatProgressModel",
          "state": {
            "_view_name": "ProgressView",
            "style": "IPY_MODEL_af255ce85aee44e287cf720e4c0b37a5",
            "_dom_classes": [],
            "description": "Downloading: 100%",
            "_model_name": "FloatProgressModel",
            "bar_style": "success",
            "max": 1553,
            "_view_module": "@jupyter-widgets/controls",
            "_model_module_version": "1.5.0",
            "value": 1553,
            "_view_count": null,
            "_view_module_version": "1.5.0",
            "orientation": "horizontal",
            "min": 0,
            "description_tooltip": null,
            "_model_module": "@jupyter-widgets/controls",
            "layout": "IPY_MODEL_17caa703477e4b6ba3b4bba75e39b6ea"
          }
        },
        "daaec0a8144b45b0a60fdd893c21a525": {
          "model_module": "@jupyter-widgets/controls",
          "model_name": "HTMLModel",
          "state": {
            "_view_name": "HTMLView",
            "style": "IPY_MODEL_0240bcfbbf1145778120a9e142e39832",
            "_dom_classes": [],
            "description": "",
            "_model_name": "HTMLModel",
            "placeholder": "​",
            "_view_module": "@jupyter-widgets/controls",
            "_model_module_version": "1.5.0",
            "value": " 1.55k/1.55k [00:00&lt;00:00, 24.2kB/s]",
            "_view_count": null,
            "_view_module_version": "1.5.0",
            "description_tooltip": null,
            "_model_module": "@jupyter-widgets/controls",
            "layout": "IPY_MODEL_c59f7880477745c3bb0fdda6fc277b06"
          }
        },
        "af255ce85aee44e287cf720e4c0b37a5": {
          "model_module": "@jupyter-widgets/controls",
          "model_name": "ProgressStyleModel",
          "state": {
            "_view_name": "StyleView",
            "_model_name": "ProgressStyleModel",
            "description_width": "initial",
            "_view_module": "@jupyter-widgets/base",
            "_model_module_version": "1.5.0",
            "_view_count": null,
            "_view_module_version": "1.2.0",
            "bar_color": null,
            "_model_module": "@jupyter-widgets/controls"
          }
        },
        "17caa703477e4b6ba3b4bba75e39b6ea": {
          "model_module": "@jupyter-widgets/base",
          "model_name": "LayoutModel",
          "state": {
            "_view_name": "LayoutView",
            "grid_template_rows": null,
            "right": null,
            "justify_content": null,
            "_view_module": "@jupyter-widgets/base",
            "overflow": null,
            "_model_module_version": "1.2.0",
            "_view_count": null,
            "flex_flow": null,
            "width": null,
            "min_width": null,
            "border": null,
            "align_items": null,
            "bottom": null,
            "_model_module": "@jupyter-widgets/base",
            "top": null,
            "grid_column": null,
            "overflow_y": null,
            "overflow_x": null,
            "grid_auto_flow": null,
            "grid_area": null,
            "grid_template_columns": null,
            "flex": null,
            "_model_name": "LayoutModel",
            "justify_items": null,
            "grid_row": null,
            "max_height": null,
            "align_content": null,
            "visibility": null,
            "align_self": null,
            "height": null,
            "min_height": null,
            "padding": null,
            "grid_auto_rows": null,
            "grid_gap": null,
            "max_width": null,
            "order": null,
            "_view_module_version": "1.2.0",
            "grid_template_areas": null,
            "object_position": null,
            "object_fit": null,
            "grid_auto_columns": null,
            "margin": null,
            "display": null,
            "left": null
          }
        },
        "0240bcfbbf1145778120a9e142e39832": {
          "model_module": "@jupyter-widgets/controls",
          "model_name": "DescriptionStyleModel",
          "state": {
            "_view_name": "StyleView",
            "_model_name": "DescriptionStyleModel",
            "description_width": "",
            "_view_module": "@jupyter-widgets/base",
            "_model_module_version": "1.5.0",
            "_view_count": null,
            "_view_module_version": "1.2.0",
            "_model_module": "@jupyter-widgets/controls"
          }
        },
        "c59f7880477745c3bb0fdda6fc277b06": {
          "model_module": "@jupyter-widgets/base",
          "model_name": "LayoutModel",
          "state": {
            "_view_name": "LayoutView",
            "grid_template_rows": null,
            "right": null,
            "justify_content": null,
            "_view_module": "@jupyter-widgets/base",
            "overflow": null,
            "_model_module_version": "1.2.0",
            "_view_count": null,
            "flex_flow": null,
            "width": null,
            "min_width": null,
            "border": null,
            "align_items": null,
            "bottom": null,
            "_model_module": "@jupyter-widgets/base",
            "top": null,
            "grid_column": null,
            "overflow_y": null,
            "overflow_x": null,
            "grid_auto_flow": null,
            "grid_area": null,
            "grid_template_columns": null,
            "flex": null,
            "_model_name": "LayoutModel",
            "justify_items": null,
            "grid_row": null,
            "max_height": null,
            "align_content": null,
            "visibility": null,
            "align_self": null,
            "height": null,
            "min_height": null,
            "padding": null,
            "grid_auto_rows": null,
            "grid_gap": null,
            "max_width": null,
            "order": null,
            "_view_module_version": "1.2.0",
            "grid_template_areas": null,
            "object_position": null,
            "object_fit": null,
            "grid_auto_columns": null,
            "margin": null,
            "display": null,
            "left": null
          }
        },
        "84f400fa06144e93a8bf04b9f7aae779": {
          "model_module": "@jupyter-widgets/controls",
          "model_name": "HBoxModel",
          "state": {
            "_view_name": "HBoxView",
            "_dom_classes": [],
            "_model_name": "HBoxModel",
            "_view_module": "@jupyter-widgets/controls",
            "_model_module_version": "1.5.0",
            "_view_count": null,
            "_view_module_version": "1.5.0",
            "box_style": "",
            "layout": "IPY_MODEL_25ce5623db0c4590a25e96804e263d10",
            "_model_module": "@jupyter-widgets/controls",
            "children": [
              "IPY_MODEL_5aec8cb60cf24e8aab375084721b71cf",
              "IPY_MODEL_7f2a5e2ce06341cb92b92c4e74f823f5"
            ]
          }
        },
        "25ce5623db0c4590a25e96804e263d10": {
          "model_module": "@jupyter-widgets/base",
          "model_name": "LayoutModel",
          "state": {
            "_view_name": "LayoutView",
            "grid_template_rows": null,
            "right": null,
            "justify_content": null,
            "_view_module": "@jupyter-widgets/base",
            "overflow": null,
            "_model_module_version": "1.2.0",
            "_view_count": null,
            "flex_flow": null,
            "width": null,
            "min_width": null,
            "border": null,
            "align_items": null,
            "bottom": null,
            "_model_module": "@jupyter-widgets/base",
            "top": null,
            "grid_column": null,
            "overflow_y": null,
            "overflow_x": null,
            "grid_auto_flow": null,
            "grid_area": null,
            "grid_template_columns": null,
            "flex": null,
            "_model_name": "LayoutModel",
            "justify_items": null,
            "grid_row": null,
            "max_height": null,
            "align_content": null,
            "visibility": null,
            "align_self": null,
            "height": null,
            "min_height": null,
            "padding": null,
            "grid_auto_rows": null,
            "grid_gap": null,
            "max_width": null,
            "order": null,
            "_view_module_version": "1.2.0",
            "grid_template_areas": null,
            "object_position": null,
            "object_fit": null,
            "grid_auto_columns": null,
            "margin": null,
            "display": null,
            "left": null
          }
        },
        "5aec8cb60cf24e8aab375084721b71cf": {
          "model_module": "@jupyter-widgets/controls",
          "model_name": "FloatProgressModel",
          "state": {
            "_view_name": "ProgressView",
            "style": "IPY_MODEL_c3183d86e853441983d8ea34c8420611",
            "_dom_classes": [],
            "description": "Downloading: 100%",
            "_model_name": "FloatProgressModel",
            "bar_style": "success",
            "max": 557941479,
            "_view_module": "@jupyter-widgets/controls",
            "_model_module_version": "1.5.0",
            "value": 557941479,
            "_view_count": null,
            "_view_module_version": "1.5.0",
            "orientation": "horizontal",
            "min": 0,
            "description_tooltip": null,
            "_model_module": "@jupyter-widgets/controls",
            "layout": "IPY_MODEL_b885d3208ade4aa49e8e38cb8bf44343"
          }
        },
        "7f2a5e2ce06341cb92b92c4e74f823f5": {
          "model_module": "@jupyter-widgets/controls",
          "model_name": "HTMLModel",
          "state": {
            "_view_name": "HTMLView",
            "style": "IPY_MODEL_c1272151df464ab88ffc91a3dc47bf6c",
            "_dom_classes": [],
            "description": "",
            "_model_name": "HTMLModel",
            "placeholder": "​",
            "_view_module": "@jupyter-widgets/controls",
            "_model_module_version": "1.5.0",
            "value": " 558M/558M [00:09&lt;00:00, 55.9MB/s]",
            "_view_count": null,
            "_view_module_version": "1.5.0",
            "description_tooltip": null,
            "_model_module": "@jupyter-widgets/controls",
            "layout": "IPY_MODEL_a36da5c783d5472ba2c28eae21f667c0"
          }
        },
        "c3183d86e853441983d8ea34c8420611": {
          "model_module": "@jupyter-widgets/controls",
          "model_name": "ProgressStyleModel",
          "state": {
            "_view_name": "StyleView",
            "_model_name": "ProgressStyleModel",
            "description_width": "initial",
            "_view_module": "@jupyter-widgets/base",
            "_model_module_version": "1.5.0",
            "_view_count": null,
            "_view_module_version": "1.2.0",
            "bar_color": null,
            "_model_module": "@jupyter-widgets/controls"
          }
        },
        "b885d3208ade4aa49e8e38cb8bf44343": {
          "model_module": "@jupyter-widgets/base",
          "model_name": "LayoutModel",
          "state": {
            "_view_name": "LayoutView",
            "grid_template_rows": null,
            "right": null,
            "justify_content": null,
            "_view_module": "@jupyter-widgets/base",
            "overflow": null,
            "_model_module_version": "1.2.0",
            "_view_count": null,
            "flex_flow": null,
            "width": null,
            "min_width": null,
            "border": null,
            "align_items": null,
            "bottom": null,
            "_model_module": "@jupyter-widgets/base",
            "top": null,
            "grid_column": null,
            "overflow_y": null,
            "overflow_x": null,
            "grid_auto_flow": null,
            "grid_area": null,
            "grid_template_columns": null,
            "flex": null,
            "_model_name": "LayoutModel",
            "justify_items": null,
            "grid_row": null,
            "max_height": null,
            "align_content": null,
            "visibility": null,
            "align_self": null,
            "height": null,
            "min_height": null,
            "padding": null,
            "grid_auto_rows": null,
            "grid_gap": null,
            "max_width": null,
            "order": null,
            "_view_module_version": "1.2.0",
            "grid_template_areas": null,
            "object_position": null,
            "object_fit": null,
            "grid_auto_columns": null,
            "margin": null,
            "display": null,
            "left": null
          }
        },
        "c1272151df464ab88ffc91a3dc47bf6c": {
          "model_module": "@jupyter-widgets/controls",
          "model_name": "DescriptionStyleModel",
          "state": {
            "_view_name": "StyleView",
            "_model_name": "DescriptionStyleModel",
            "description_width": "",
            "_view_module": "@jupyter-widgets/base",
            "_model_module_version": "1.5.0",
            "_view_count": null,
            "_view_module_version": "1.2.0",
            "_model_module": "@jupyter-widgets/controls"
          }
        },
        "a36da5c783d5472ba2c28eae21f667c0": {
          "model_module": "@jupyter-widgets/base",
          "model_name": "LayoutModel",
          "state": {
            "_view_name": "LayoutView",
            "grid_template_rows": null,
            "right": null,
            "justify_content": null,
            "_view_module": "@jupyter-widgets/base",
            "overflow": null,
            "_model_module_version": "1.2.0",
            "_view_count": null,
            "flex_flow": null,
            "width": null,
            "min_width": null,
            "border": null,
            "align_items": null,
            "bottom": null,
            "_model_module": "@jupyter-widgets/base",
            "top": null,
            "grid_column": null,
            "overflow_y": null,
            "overflow_x": null,
            "grid_auto_flow": null,
            "grid_area": null,
            "grid_template_columns": null,
            "flex": null,
            "_model_name": "LayoutModel",
            "justify_items": null,
            "grid_row": null,
            "max_height": null,
            "align_content": null,
            "visibility": null,
            "align_self": null,
            "height": null,
            "min_height": null,
            "padding": null,
            "grid_auto_rows": null,
            "grid_gap": null,
            "max_width": null,
            "order": null,
            "_view_module_version": "1.2.0",
            "grid_template_areas": null,
            "object_position": null,
            "object_fit": null,
            "grid_auto_columns": null,
            "margin": null,
            "display": null,
            "left": null
          }
        },
        "2cd7119931c0429ea953a8f26b3dc054": {
          "model_module": "@jupyter-widgets/controls",
          "model_name": "HBoxModel",
          "state": {
            "_view_name": "HBoxView",
            "_dom_classes": [],
            "_model_name": "HBoxModel",
            "_view_module": "@jupyter-widgets/controls",
            "_model_module_version": "1.5.0",
            "_view_count": null,
            "_view_module_version": "1.5.0",
            "box_style": "",
            "layout": "IPY_MODEL_0f644d5704234aee8dabdded38f00f2c",
            "_model_module": "@jupyter-widgets/controls",
            "children": [
              "IPY_MODEL_630d63b103fc483cafd902ad4c758d92",
              "IPY_MODEL_6a91795fb47b41b6ae963dd20594039d"
            ]
          }
        },
        "0f644d5704234aee8dabdded38f00f2c": {
          "model_module": "@jupyter-widgets/base",
          "model_name": "LayoutModel",
          "state": {
            "_view_name": "LayoutView",
            "grid_template_rows": null,
            "right": null,
            "justify_content": null,
            "_view_module": "@jupyter-widgets/base",
            "overflow": null,
            "_model_module_version": "1.2.0",
            "_view_count": null,
            "flex_flow": null,
            "width": null,
            "min_width": null,
            "border": null,
            "align_items": null,
            "bottom": null,
            "_model_module": "@jupyter-widgets/base",
            "top": null,
            "grid_column": null,
            "overflow_y": null,
            "overflow_x": null,
            "grid_auto_flow": null,
            "grid_area": null,
            "grid_template_columns": null,
            "flex": null,
            "_model_name": "LayoutModel",
            "justify_items": null,
            "grid_row": null,
            "max_height": null,
            "align_content": null,
            "visibility": null,
            "align_self": null,
            "height": null,
            "min_height": null,
            "padding": null,
            "grid_auto_rows": null,
            "grid_gap": null,
            "max_width": null,
            "order": null,
            "_view_module_version": "1.2.0",
            "grid_template_areas": null,
            "object_position": null,
            "object_fit": null,
            "grid_auto_columns": null,
            "margin": null,
            "display": null,
            "left": null
          }
        },
        "630d63b103fc483cafd902ad4c758d92": {
          "model_module": "@jupyter-widgets/controls",
          "model_name": "FloatProgressModel",
          "state": {
            "_view_name": "ProgressView",
            "style": "IPY_MODEL_a8a9afe9c05d476aae6e38091bf9e10b",
            "_dom_classes": [],
            "description": "Downloading: ",
            "_model_name": "FloatProgressModel",
            "bar_style": "success",
            "max": 1656,
            "_view_module": "@jupyter-widgets/controls",
            "_model_module_version": "1.5.0",
            "value": 1656,
            "_view_count": null,
            "_view_module_version": "1.5.0",
            "orientation": "horizontal",
            "min": 0,
            "description_tooltip": null,
            "_model_module": "@jupyter-widgets/controls",
            "layout": "IPY_MODEL_b941351d54124d5b9185d18c5cd51bcc"
          }
        },
        "6a91795fb47b41b6ae963dd20594039d": {
          "model_module": "@jupyter-widgets/controls",
          "model_name": "HTMLModel",
          "state": {
            "_view_name": "HTMLView",
            "style": "IPY_MODEL_fdc7fdba99dc4c119db7bff9796e5cdf",
            "_dom_classes": [],
            "description": "",
            "_model_name": "HTMLModel",
            "placeholder": "​",
            "_view_module": "@jupyter-widgets/controls",
            "_model_module_version": "1.5.0",
            "value": " 4.20k/? [00:00&lt;00:00, 30.3kB/s]",
            "_view_count": null,
            "_view_module_version": "1.5.0",
            "description_tooltip": null,
            "_model_module": "@jupyter-widgets/controls",
            "layout": "IPY_MODEL_bb49912928a4499f8399a5fa26b0269b"
          }
        },
        "a8a9afe9c05d476aae6e38091bf9e10b": {
          "model_module": "@jupyter-widgets/controls",
          "model_name": "ProgressStyleModel",
          "state": {
            "_view_name": "StyleView",
            "_model_name": "ProgressStyleModel",
            "description_width": "initial",
            "_view_module": "@jupyter-widgets/base",
            "_model_module_version": "1.5.0",
            "_view_count": null,
            "_view_module_version": "1.2.0",
            "bar_color": null,
            "_model_module": "@jupyter-widgets/controls"
          }
        },
        "b941351d54124d5b9185d18c5cd51bcc": {
          "model_module": "@jupyter-widgets/base",
          "model_name": "LayoutModel",
          "state": {
            "_view_name": "LayoutView",
            "grid_template_rows": null,
            "right": null,
            "justify_content": null,
            "_view_module": "@jupyter-widgets/base",
            "overflow": null,
            "_model_module_version": "1.2.0",
            "_view_count": null,
            "flex_flow": null,
            "width": null,
            "min_width": null,
            "border": null,
            "align_items": null,
            "bottom": null,
            "_model_module": "@jupyter-widgets/base",
            "top": null,
            "grid_column": null,
            "overflow_y": null,
            "overflow_x": null,
            "grid_auto_flow": null,
            "grid_area": null,
            "grid_template_columns": null,
            "flex": null,
            "_model_name": "LayoutModel",
            "justify_items": null,
            "grid_row": null,
            "max_height": null,
            "align_content": null,
            "visibility": null,
            "align_self": null,
            "height": null,
            "min_height": null,
            "padding": null,
            "grid_auto_rows": null,
            "grid_gap": null,
            "max_width": null,
            "order": null,
            "_view_module_version": "1.2.0",
            "grid_template_areas": null,
            "object_position": null,
            "object_fit": null,
            "grid_auto_columns": null,
            "margin": null,
            "display": null,
            "left": null
          }
        },
        "fdc7fdba99dc4c119db7bff9796e5cdf": {
          "model_module": "@jupyter-widgets/controls",
          "model_name": "DescriptionStyleModel",
          "state": {
            "_view_name": "StyleView",
            "_model_name": "DescriptionStyleModel",
            "description_width": "",
            "_view_module": "@jupyter-widgets/base",
            "_model_module_version": "1.5.0",
            "_view_count": null,
            "_view_module_version": "1.2.0",
            "_model_module": "@jupyter-widgets/controls"
          }
        },
        "bb49912928a4499f8399a5fa26b0269b": {
          "model_module": "@jupyter-widgets/base",
          "model_name": "LayoutModel",
          "state": {
            "_view_name": "LayoutView",
            "grid_template_rows": null,
            "right": null,
            "justify_content": null,
            "_view_module": "@jupyter-widgets/base",
            "overflow": null,
            "_model_module_version": "1.2.0",
            "_view_count": null,
            "flex_flow": null,
            "width": null,
            "min_width": null,
            "border": null,
            "align_items": null,
            "bottom": null,
            "_model_module": "@jupyter-widgets/base",
            "top": null,
            "grid_column": null,
            "overflow_y": null,
            "overflow_x": null,
            "grid_auto_flow": null,
            "grid_area": null,
            "grid_template_columns": null,
            "flex": null,
            "_model_name": "LayoutModel",
            "justify_items": null,
            "grid_row": null,
            "max_height": null,
            "align_content": null,
            "visibility": null,
            "align_self": null,
            "height": null,
            "min_height": null,
            "padding": null,
            "grid_auto_rows": null,
            "grid_gap": null,
            "max_width": null,
            "order": null,
            "_view_module_version": "1.2.0",
            "grid_template_areas": null,
            "object_position": null,
            "object_fit": null,
            "grid_auto_columns": null,
            "margin": null,
            "display": null,
            "left": null
          }
        },
        "03c6e8ae3c1d41ff90d11759182ab5ed": {
          "model_module": "@jupyter-widgets/controls",
          "model_name": "HBoxModel",
          "state": {
            "_view_name": "HBoxView",
            "_dom_classes": [],
            "_model_name": "HBoxModel",
            "_view_module": "@jupyter-widgets/controls",
            "_model_module_version": "1.5.0",
            "_view_count": null,
            "_view_module_version": "1.5.0",
            "box_style": "",
            "layout": "IPY_MODEL_e2e378aba9ae4bd78964652a58dcfccd",
            "_model_module": "@jupyter-widgets/controls",
            "children": [
              "IPY_MODEL_de92608c256e4979bcb3048aeadc9536",
              "IPY_MODEL_5d844991dc424b4fa922715b03a35fea"
            ]
          }
        },
        "e2e378aba9ae4bd78964652a58dcfccd": {
          "model_module": "@jupyter-widgets/base",
          "model_name": "LayoutModel",
          "state": {
            "_view_name": "LayoutView",
            "grid_template_rows": null,
            "right": null,
            "justify_content": null,
            "_view_module": "@jupyter-widgets/base",
            "overflow": null,
            "_model_module_version": "1.2.0",
            "_view_count": null,
            "flex_flow": null,
            "width": null,
            "min_width": null,
            "border": null,
            "align_items": null,
            "bottom": null,
            "_model_module": "@jupyter-widgets/base",
            "top": null,
            "grid_column": null,
            "overflow_y": null,
            "overflow_x": null,
            "grid_auto_flow": null,
            "grid_area": null,
            "grid_template_columns": null,
            "flex": null,
            "_model_name": "LayoutModel",
            "justify_items": null,
            "grid_row": null,
            "max_height": null,
            "align_content": null,
            "visibility": null,
            "align_self": null,
            "height": null,
            "min_height": null,
            "padding": null,
            "grid_auto_rows": null,
            "grid_gap": null,
            "max_width": null,
            "order": null,
            "_view_module_version": "1.2.0",
            "grid_template_areas": null,
            "object_position": null,
            "object_fit": null,
            "grid_auto_columns": null,
            "margin": null,
            "display": null,
            "left": null
          }
        },
        "de92608c256e4979bcb3048aeadc9536": {
          "model_module": "@jupyter-widgets/controls",
          "model_name": "FloatProgressModel",
          "state": {
            "_view_name": "ProgressView",
            "style": "IPY_MODEL_1fb1dec37c36470ab9d65652458e950c",
            "_dom_classes": [],
            "description": "100%",
            "_model_name": "FloatProgressModel",
            "bar_style": "success",
            "max": 500,
            "_view_module": "@jupyter-widgets/controls",
            "_model_module_version": "1.5.0",
            "value": 500,
            "_view_count": null,
            "_view_module_version": "1.5.0",
            "orientation": "horizontal",
            "min": 0,
            "description_tooltip": null,
            "_model_module": "@jupyter-widgets/controls",
            "layout": "IPY_MODEL_bfea49649ab143678a0ba6272f3edae2"
          }
        },
        "5d844991dc424b4fa922715b03a35fea": {
          "model_module": "@jupyter-widgets/controls",
          "model_name": "HTMLModel",
          "state": {
            "_view_name": "HTMLView",
            "style": "IPY_MODEL_907efe15b51b4a0a94d8715eebb49442",
            "_dom_classes": [],
            "description": "",
            "_model_name": "HTMLModel",
            "placeholder": "​",
            "_view_module": "@jupyter-widgets/controls",
            "_model_module_version": "1.5.0",
            "value": " 500/500 [02:34&lt;00:00,  3.23ba/s]",
            "_view_count": null,
            "_view_module_version": "1.5.0",
            "description_tooltip": null,
            "_model_module": "@jupyter-widgets/controls",
            "layout": "IPY_MODEL_fa58f1faa4b3424f97e22c7c3459238a"
          }
        },
        "1fb1dec37c36470ab9d65652458e950c": {
          "model_module": "@jupyter-widgets/controls",
          "model_name": "ProgressStyleModel",
          "state": {
            "_view_name": "StyleView",
            "_model_name": "ProgressStyleModel",
            "description_width": "initial",
            "_view_module": "@jupyter-widgets/base",
            "_model_module_version": "1.5.0",
            "_view_count": null,
            "_view_module_version": "1.2.0",
            "bar_color": null,
            "_model_module": "@jupyter-widgets/controls"
          }
        },
        "bfea49649ab143678a0ba6272f3edae2": {
          "model_module": "@jupyter-widgets/base",
          "model_name": "LayoutModel",
          "state": {
            "_view_name": "LayoutView",
            "grid_template_rows": null,
            "right": null,
            "justify_content": null,
            "_view_module": "@jupyter-widgets/base",
            "overflow": null,
            "_model_module_version": "1.2.0",
            "_view_count": null,
            "flex_flow": null,
            "width": null,
            "min_width": null,
            "border": null,
            "align_items": null,
            "bottom": null,
            "_model_module": "@jupyter-widgets/base",
            "top": null,
            "grid_column": null,
            "overflow_y": null,
            "overflow_x": null,
            "grid_auto_flow": null,
            "grid_area": null,
            "grid_template_columns": null,
            "flex": null,
            "_model_name": "LayoutModel",
            "justify_items": null,
            "grid_row": null,
            "max_height": null,
            "align_content": null,
            "visibility": null,
            "align_self": null,
            "height": null,
            "min_height": null,
            "padding": null,
            "grid_auto_rows": null,
            "grid_gap": null,
            "max_width": null,
            "order": null,
            "_view_module_version": "1.2.0",
            "grid_template_areas": null,
            "object_position": null,
            "object_fit": null,
            "grid_auto_columns": null,
            "margin": null,
            "display": null,
            "left": null
          }
        },
        "907efe15b51b4a0a94d8715eebb49442": {
          "model_module": "@jupyter-widgets/controls",
          "model_name": "DescriptionStyleModel",
          "state": {
            "_view_name": "StyleView",
            "_model_name": "DescriptionStyleModel",
            "description_width": "",
            "_view_module": "@jupyter-widgets/base",
            "_model_module_version": "1.5.0",
            "_view_count": null,
            "_view_module_version": "1.2.0",
            "_model_module": "@jupyter-widgets/controls"
          }
        },
        "fa58f1faa4b3424f97e22c7c3459238a": {
          "model_module": "@jupyter-widgets/base",
          "model_name": "LayoutModel",
          "state": {
            "_view_name": "LayoutView",
            "grid_template_rows": null,
            "right": null,
            "justify_content": null,
            "_view_module": "@jupyter-widgets/base",
            "overflow": null,
            "_model_module_version": "1.2.0",
            "_view_count": null,
            "flex_flow": null,
            "width": null,
            "min_width": null,
            "border": null,
            "align_items": null,
            "bottom": null,
            "_model_module": "@jupyter-widgets/base",
            "top": null,
            "grid_column": null,
            "overflow_y": null,
            "overflow_x": null,
            "grid_auto_flow": null,
            "grid_area": null,
            "grid_template_columns": null,
            "flex": null,
            "_model_name": "LayoutModel",
            "justify_items": null,
            "grid_row": null,
            "max_height": null,
            "align_content": null,
            "visibility": null,
            "align_self": null,
            "height": null,
            "min_height": null,
            "padding": null,
            "grid_auto_rows": null,
            "grid_gap": null,
            "max_width": null,
            "order": null,
            "_view_module_version": "1.2.0",
            "grid_template_areas": null,
            "object_position": null,
            "object_fit": null,
            "grid_auto_columns": null,
            "margin": null,
            "display": null,
            "left": null
          }
        }
      }
    }
  },
  "cells": [
    {
      "cell_type": "markdown",
      "metadata": {
        "id": "UhTZu475dxTs"
      },
      "source": [
        "# **Check Avaibility of GPU**"
      ]
    },
    {
      "cell_type": "code",
      "metadata": {
        "id": "KYQP4gSDdJTu"
      },
      "source": [
        "import torch"
      ],
      "execution_count": null,
      "outputs": []
    },
    {
      "cell_type": "code",
      "metadata": {
        "colab": {
          "base_uri": "https://localhost:8080/"
        },
        "id": "OBkdTtrMd8ne",
        "outputId": "be9ce431-73bf-4ac3-e612-751b7e52fbf6"
      },
      "source": [
        "# If there's a GPU available...\r\n",
        "if torch.cuda.is_available():    \r\n",
        "\r\n",
        "    # Tell PyTorch to use the GPU.    \r\n",
        "    device = torch.device(\"cuda\")\r\n",
        "\r\n",
        "    print('There are %d GPU(s) available.' % torch.cuda.device_count())\r\n",
        "\r\n",
        "    print('We will use the GPU:', torch.cuda.get_device_name(0))\r\n",
        "\r\n",
        "# If not...\r\n",
        "else:\r\n",
        "    print('No GPU available, using the CPU instead.')\r\n",
        "    device = torch.device(\"cpu\")"
      ],
      "execution_count": null,
      "outputs": [
        {
          "output_type": "stream",
          "text": [
            "There are 1 GPU(s) available.\n",
            "We will use the GPU: Tesla T4\n"
          ],
          "name": "stdout"
        }
      ]
    },
    {
      "cell_type": "markdown",
      "metadata": {
        "id": "HuA7hIO92DxW"
      },
      "source": [
        "# **Installation of packages**"
      ]
    },
    {
      "cell_type": "code",
      "metadata": {
        "colab": {
          "base_uri": "https://localhost:8080/"
        },
        "id": "Q0r6Y9Tw2kXj",
        "outputId": "f17f76a1-924a-4a49-e39c-46fc5015579b"
      },
      "source": [
        "pip install datasets==1.0.2"
      ],
      "execution_count": null,
      "outputs": [
        {
          "output_type": "stream",
          "text": [
            "Requirement already satisfied: datasets==1.0.2 in /usr/local/lib/python3.7/dist-packages (1.0.2)\n",
            "Requirement already satisfied: pyarrow>=0.17.1 in /usr/local/lib/python3.7/dist-packages (from datasets==1.0.2) (3.0.0)\n",
            "Requirement already satisfied: xxhash in /usr/local/lib/python3.7/dist-packages (from datasets==1.0.2) (2.0.0)\n",
            "Requirement already satisfied: requests>=2.19.0 in /usr/local/lib/python3.7/dist-packages (from datasets==1.0.2) (2.23.0)\n",
            "Requirement already satisfied: pandas in /usr/local/lib/python3.7/dist-packages (from datasets==1.0.2) (1.1.5)\n",
            "Requirement already satisfied: filelock in /usr/local/lib/python3.7/dist-packages (from datasets==1.0.2) (3.0.12)\n",
            "Requirement already satisfied: numpy>=1.17 in /usr/local/lib/python3.7/dist-packages (from datasets==1.0.2) (1.19.5)\n",
            "Requirement already satisfied: dill in /usr/local/lib/python3.7/dist-packages (from datasets==1.0.2) (0.3.3)\n",
            "Requirement already satisfied: tqdm>=4.27 in /usr/local/lib/python3.7/dist-packages (from datasets==1.0.2) (4.41.1)\n",
            "Requirement already satisfied: certifi>=2017.4.17 in /usr/local/lib/python3.7/dist-packages (from requests>=2.19.0->datasets==1.0.2) (2020.12.5)\n",
            "Requirement already satisfied: urllib3!=1.25.0,!=1.25.1,<1.26,>=1.21.1 in /usr/local/lib/python3.7/dist-packages (from requests>=2.19.0->datasets==1.0.2) (1.24.3)\n",
            "Requirement already satisfied: idna<3,>=2.5 in /usr/local/lib/python3.7/dist-packages (from requests>=2.19.0->datasets==1.0.2) (2.10)\n",
            "Requirement already satisfied: chardet<4,>=3.0.2 in /usr/local/lib/python3.7/dist-packages (from requests>=2.19.0->datasets==1.0.2) (3.0.4)\n",
            "Requirement already satisfied: python-dateutil>=2.7.3 in /usr/local/lib/python3.7/dist-packages (from pandas->datasets==1.0.2) (2.8.1)\n",
            "Requirement already satisfied: pytz>=2017.2 in /usr/local/lib/python3.7/dist-packages (from pandas->datasets==1.0.2) (2018.9)\n",
            "Requirement already satisfied: six>=1.5 in /usr/local/lib/python3.7/dist-packages (from python-dateutil>=2.7.3->pandas->datasets==1.0.2) (1.15.0)\n"
          ],
          "name": "stdout"
        }
      ]
    },
    {
      "cell_type": "code",
      "metadata": {
        "colab": {
          "base_uri": "https://localhost:8080/"
        },
        "id": "8XI3ON0v22A6",
        "outputId": "d418d4eb-9e7e-42e2-be81-d97f5f4691b1"
      },
      "source": [
        "pip install transformers"
      ],
      "execution_count": null,
      "outputs": [
        {
          "output_type": "stream",
          "text": [
            "Collecting transformers\n",
            "\u001b[?25l  Downloading https://files.pythonhosted.org/packages/2c/d8/5144b0712f7f82229a8da5983a8fbb8d30cec5fbd5f8d12ffe1854dcea67/transformers-4.4.1-py3-none-any.whl (2.1MB)\n",
            "\u001b[K     |████████████████████████████████| 2.1MB 18.0MB/s \n",
            "\u001b[?25hRequirement already satisfied: importlib-metadata; python_version < \"3.8\" in /usr/local/lib/python3.7/dist-packages (from transformers) (3.7.2)\n",
            "Requirement already satisfied: tqdm>=4.27 in /usr/local/lib/python3.7/dist-packages (from transformers) (4.41.1)\n",
            "Collecting tokenizers<0.11,>=0.10.1\n",
            "\u001b[?25l  Downloading https://files.pythonhosted.org/packages/71/23/2ddc317b2121117bf34dd00f5b0de194158f2a44ee2bf5e47c7166878a97/tokenizers-0.10.1-cp37-cp37m-manylinux2010_x86_64.whl (3.2MB)\n",
            "\u001b[K     |████████████████████████████████| 3.2MB 38.2MB/s \n",
            "\u001b[?25hRequirement already satisfied: filelock in /usr/local/lib/python3.7/dist-packages (from transformers) (3.0.12)\n",
            "Requirement already satisfied: regex!=2019.12.17 in /usr/local/lib/python3.7/dist-packages (from transformers) (2019.12.20)\n",
            "Requirement already satisfied: packaging in /usr/local/lib/python3.7/dist-packages (from transformers) (20.9)\n",
            "Collecting sacremoses\n",
            "\u001b[?25l  Downloading https://files.pythonhosted.org/packages/7d/34/09d19aff26edcc8eb2a01bed8e98f13a1537005d31e95233fd48216eed10/sacremoses-0.0.43.tar.gz (883kB)\n",
            "\u001b[K     |████████████████████████████████| 890kB 60.4MB/s \n",
            "\u001b[?25hRequirement already satisfied: numpy>=1.17 in /usr/local/lib/python3.7/dist-packages (from transformers) (1.19.5)\n",
            "Requirement already satisfied: requests in /usr/local/lib/python3.7/dist-packages (from transformers) (2.23.0)\n",
            "Requirement already satisfied: zipp>=0.5 in /usr/local/lib/python3.7/dist-packages (from importlib-metadata; python_version < \"3.8\"->transformers) (3.4.1)\n",
            "Requirement already satisfied: typing-extensions>=3.6.4; python_version < \"3.8\" in /usr/local/lib/python3.7/dist-packages (from importlib-metadata; python_version < \"3.8\"->transformers) (3.7.4.3)\n",
            "Requirement already satisfied: pyparsing>=2.0.2 in /usr/local/lib/python3.7/dist-packages (from packaging->transformers) (2.4.7)\n",
            "Requirement already satisfied: six in /usr/local/lib/python3.7/dist-packages (from sacremoses->transformers) (1.15.0)\n",
            "Requirement already satisfied: click in /usr/local/lib/python3.7/dist-packages (from sacremoses->transformers) (7.1.2)\n",
            "Requirement already satisfied: joblib in /usr/local/lib/python3.7/dist-packages (from sacremoses->transformers) (1.0.1)\n",
            "Requirement already satisfied: chardet<4,>=3.0.2 in /usr/local/lib/python3.7/dist-packages (from requests->transformers) (3.0.4)\n",
            "Requirement already satisfied: idna<3,>=2.5 in /usr/local/lib/python3.7/dist-packages (from requests->transformers) (2.10)\n",
            "Requirement already satisfied: urllib3!=1.25.0,!=1.25.1,<1.26,>=1.21.1 in /usr/local/lib/python3.7/dist-packages (from requests->transformers) (1.24.3)\n",
            "Requirement already satisfied: certifi>=2017.4.17 in /usr/local/lib/python3.7/dist-packages (from requests->transformers) (2020.12.5)\n",
            "Building wheels for collected packages: sacremoses\n",
            "  Building wheel for sacremoses (setup.py) ... \u001b[?25l\u001b[?25hdone\n",
            "  Created wheel for sacremoses: filename=sacremoses-0.0.43-cp37-none-any.whl size=893262 sha256=303821f13737b4d05fbd9246d0a41491ebf2766d5fbc54a40f82d0901d0ba074\n",
            "  Stored in directory: /root/.cache/pip/wheels/29/3c/fd/7ce5c3f0666dab31a50123635e6fb5e19ceb42ce38d4e58f45\n",
            "Successfully built sacremoses\n",
            "Installing collected packages: tokenizers, sacremoses, transformers\n",
            "Successfully installed sacremoses-0.0.43 tokenizers-0.10.1 transformers-4.4.1\n"
          ],
          "name": "stdout"
        }
      ]
    },
    {
      "cell_type": "code",
      "metadata": {
        "colab": {
          "base_uri": "https://localhost:8080/"
        },
        "id": "kxMJJlox71ul",
        "outputId": "3b879af6-c37c-47db-9c72-247e1a54420a"
      },
      "source": [
        "pip install pyrouge"
      ],
      "execution_count": null,
      "outputs": [
        {
          "output_type": "stream",
          "text": [
            "Collecting pyrouge\n",
            "\u001b[?25l  Downloading https://files.pythonhosted.org/packages/11/85/e522dd6b36880ca19dcf7f262b22365748f56edc6f455e7b6a37d0382c32/pyrouge-0.1.3.tar.gz (60kB)\n",
            "\r\u001b[K     |█████▍                          | 10kB 25.1MB/s eta 0:00:01\r\u001b[K     |██████████▉                     | 20kB 32.6MB/s eta 0:00:01\r\u001b[K     |████████████████▎               | 30kB 22.3MB/s eta 0:00:01\r\u001b[K     |█████████████████████▋          | 40kB 26.0MB/s eta 0:00:01\r\u001b[K     |███████████████████████████     | 51kB 26.8MB/s eta 0:00:01\r\u001b[K     |████████████████████████████████| 61kB 8.4MB/s \n",
            "\u001b[?25hBuilding wheels for collected packages: pyrouge\n",
            "  Building wheel for pyrouge (setup.py) ... \u001b[?25l\u001b[?25hdone\n",
            "  Created wheel for pyrouge: filename=pyrouge-0.1.3-cp37-none-any.whl size=191613 sha256=501a6866b5ff11ffc302ac9b537abee8df7d3995613f246598b5f78628a03ef5\n",
            "  Stored in directory: /root/.cache/pip/wheels/75/d3/0c/e5b04e15b6b87c42e980de3931d2686e14d36e045058983599\n",
            "Successfully built pyrouge\n",
            "Installing collected packages: pyrouge\n",
            "Successfully installed pyrouge-0.1.3\n"
          ],
          "name": "stdout"
        }
      ]
    },
    {
      "cell_type": "code",
      "metadata": {
        "id": "ZDCFBiEiqlc2",
        "colab": {
          "base_uri": "https://localhost:8080/"
        },
        "outputId": "b5bc27d7-f5cd-4c6d-ce72-43d9c1ef8036"
      },
      "source": [
        "!pip install git-python==1.0.3\r\n",
        "!pip install sacrebleu==1.4.12\r\n",
        "!pip install rouge_score"
      ],
      "execution_count": null,
      "outputs": [
        {
          "output_type": "stream",
          "text": [
            "Collecting git-python==1.0.3\n",
            "  Downloading https://files.pythonhosted.org/packages/8a/de/0cc6353a45cdb1e137cffac5383097b300cc578e2e1133eeb847e23a1394/git_python-1.0.3-py2.py3-none-any.whl\n",
            "Collecting gitpython\n",
            "\u001b[?25l  Downloading https://files.pythonhosted.org/packages/a6/99/98019716955ba243657daedd1de8f3a88ca1f5b75057c38e959db22fb87b/GitPython-3.1.14-py3-none-any.whl (159kB)\n",
            "\u001b[K     |████████████████████████████████| 163kB 20.1MB/s \n",
            "\u001b[?25hCollecting gitdb<5,>=4.0.1\n",
            "\u001b[?25l  Downloading https://files.pythonhosted.org/packages/48/11/d1800bca0a3bae820b84b7d813ad1eff15a48a64caea9c823fc8c1b119e8/gitdb-4.0.5-py3-none-any.whl (63kB)\n",
            "\u001b[K     |████████████████████████████████| 71kB 11.2MB/s \n",
            "\u001b[?25hCollecting smmap<4,>=3.0.1\n",
            "  Downloading https://files.pythonhosted.org/packages/d5/1e/6130925131f639b2acde0f7f18b73e33ce082ff2d90783c436b52040af5a/smmap-3.0.5-py2.py3-none-any.whl\n",
            "Installing collected packages: smmap, gitdb, gitpython, git-python\n",
            "Successfully installed git-python-1.0.3 gitdb-4.0.5 gitpython-3.1.14 smmap-3.0.5\n",
            "Collecting sacrebleu==1.4.12\n",
            "\u001b[?25l  Downloading https://files.pythonhosted.org/packages/66/5b/cf661da8e9b0229f5d98c2961b072a5728fd11a0758957f8c0fd36081c06/sacrebleu-1.4.12-py3-none-any.whl (54kB)\n",
            "\u001b[K     |████████████████████████████████| 61kB 8.3MB/s \n",
            "\u001b[?25hCollecting mecab-python3==0.996.5\n",
            "\u001b[?25l  Downloading https://files.pythonhosted.org/packages/47/62/f1e4ffba2f904b8998da8df4372d70cf4dad6301b94f4f9e50e9aea1b82e/mecab_python3-0.996.5-cp37-cp37m-manylinux2010_x86_64.whl (17.1MB)\n",
            "\u001b[K     |████████████████████████████████| 17.1MB 198kB/s \n",
            "\u001b[?25hCollecting portalocker\n",
            "  Downloading https://files.pythonhosted.org/packages/82/22/e684c9e2e59b561dbe36538852e81849122c666c423448e3a5c99362c228/portalocker-2.2.1-py2.py3-none-any.whl\n",
            "Installing collected packages: mecab-python3, portalocker, sacrebleu\n",
            "Successfully installed mecab-python3-0.996.5 portalocker-2.2.1 sacrebleu-1.4.12\n",
            "Collecting rouge_score\n",
            "  Downloading https://files.pythonhosted.org/packages/1f/56/a81022436c08b9405a5247b71635394d44fe7e1dbedc4b28c740e09c2840/rouge_score-0.0.4-py2.py3-none-any.whl\n",
            "Requirement already satisfied: absl-py in /usr/local/lib/python3.7/dist-packages (from rouge_score) (0.10.0)\n",
            "Requirement already satisfied: numpy in /usr/local/lib/python3.7/dist-packages (from rouge_score) (1.19.5)\n",
            "Requirement already satisfied: nltk in /usr/local/lib/python3.7/dist-packages (from rouge_score) (3.2.5)\n",
            "Requirement already satisfied: six>=1.14.0 in /usr/local/lib/python3.7/dist-packages (from rouge_score) (1.15.0)\n",
            "Installing collected packages: rouge-score\n",
            "Successfully installed rouge-score-0.0.4\n"
          ],
          "name": "stdout"
        }
      ]
    },
    {
      "cell_type": "code",
      "metadata": {
        "colab": {
          "base_uri": "https://localhost:8080/"
        },
        "id": "jUoOHOh53PSZ",
        "outputId": "850dda0e-bd3f-4b92-e90d-644bbbaae849"
      },
      "source": [
        "from google.colab import drive\r\n",
        "drive.mount('/content/drive')"
      ],
      "execution_count": null,
      "outputs": [
        {
          "output_type": "stream",
          "text": [
            "Drive already mounted at /content/drive; to attempt to forcibly remount, call drive.mount(\"/content/drive\", force_remount=True).\n"
          ],
          "name": "stdout"
        }
      ]
    },
    {
      "cell_type": "code",
      "metadata": {
        "id": "NEmuXgmTspM5"
      },
      "source": [
        "import datasets\r\n",
        "import transformers\r\n"
      ],
      "execution_count": null,
      "outputs": []
    },
    {
      "cell_type": "markdown",
      "metadata": {
        "id": "ZfpJMVC26oFL"
      },
      "source": [
        "# **Data Preprocessing and Tokenization Amazon Reviews**"
      ]
    },
    {
      "cell_type": "code",
      "metadata": {
        "id": "0KzJBpnp6tHn"
      },
      "source": [
        "from transformers import TrainingArguments,Trainer\r\n",
        "from dataclasses import dataclass, field\r\n",
        "from typing import Optional\r\n",
        "from transformers.file_utils import add_start_docstrings\r\n",
        "import logging"
      ],
      "execution_count": null,
      "outputs": []
    },
    {
      "cell_type": "code",
      "metadata": {
        "id": "OtNIth6k6wuK"
      },
      "source": [
        ""
      ],
      "execution_count": null,
      "outputs": []
    },
    {
      "cell_type": "code",
      "metadata": {
        "id": "3HILKUkYzSJl"
      },
      "source": [
        "import pandas as pd\r\n",
        "import io\r\n",
        "df = pd.read_csv(\"/content/drive/MyDrive/SGP sem 6/reviews.csv\") #Read dataset"
      ],
      "execution_count": null,
      "outputs": []
    },
    {
      "cell_type": "code",
      "metadata": {
        "colab": {
          "base_uri": "https://localhost:8080/",
          "height": 212
        },
        "id": "aaXXnpw_8TMX",
        "outputId": "edcbdd14-6d66-4ae6-81e6-04d09b716ed3"
      },
      "source": [
        "df.drop(columns=['Id', 'ProductId', 'UserId', 'ProfileName', 'HelpfulnessNumerator','HelpfulnessDenominator', 'Score', 'Time'],axis=1,inplace=True)\r\n",
        "df = df.dropna()\r\n",
        "print(\"Data size\", len(df))\r\n",
        "df.head()"
      ],
      "execution_count": null,
      "outputs": [
        {
          "output_type": "stream",
          "text": [
            "Data size 568427\n"
          ],
          "name": "stdout"
        },
        {
          "output_type": "execute_result",
          "data": {
            "text/html": [
              "<div>\n",
              "<style scoped>\n",
              "    .dataframe tbody tr th:only-of-type {\n",
              "        vertical-align: middle;\n",
              "    }\n",
              "\n",
              "    .dataframe tbody tr th {\n",
              "        vertical-align: top;\n",
              "    }\n",
              "\n",
              "    .dataframe thead th {\n",
              "        text-align: right;\n",
              "    }\n",
              "</style>\n",
              "<table border=\"1\" class=\"dataframe\">\n",
              "  <thead>\n",
              "    <tr style=\"text-align: right;\">\n",
              "      <th></th>\n",
              "      <th>Summary</th>\n",
              "      <th>Text</th>\n",
              "    </tr>\n",
              "  </thead>\n",
              "  <tbody>\n",
              "    <tr>\n",
              "      <th>0</th>\n",
              "      <td>Good Quality Dog Food</td>\n",
              "      <td>I have bought several of the Vitality canned d...</td>\n",
              "    </tr>\n",
              "    <tr>\n",
              "      <th>1</th>\n",
              "      <td>Not as Advertised</td>\n",
              "      <td>Product arrived labeled as Jumbo Salted Peanut...</td>\n",
              "    </tr>\n",
              "    <tr>\n",
              "      <th>2</th>\n",
              "      <td>\"Delight\" says it all</td>\n",
              "      <td>This is a confection that has been around a fe...</td>\n",
              "    </tr>\n",
              "    <tr>\n",
              "      <th>3</th>\n",
              "      <td>Cough Medicine</td>\n",
              "      <td>If you are looking for the secret ingredient i...</td>\n",
              "    </tr>\n",
              "    <tr>\n",
              "      <th>4</th>\n",
              "      <td>Great taffy</td>\n",
              "      <td>Great taffy at a great price.  There was a wid...</td>\n",
              "    </tr>\n",
              "  </tbody>\n",
              "</table>\n",
              "</div>"
            ],
            "text/plain": [
              "                 Summary                                               Text\n",
              "0  Good Quality Dog Food  I have bought several of the Vitality canned d...\n",
              "1      Not as Advertised  Product arrived labeled as Jumbo Salted Peanut...\n",
              "2  \"Delight\" says it all  This is a confection that has been around a fe...\n",
              "3         Cough Medicine  If you are looking for the secret ingredient i...\n",
              "4            Great taffy  Great taffy at a great price.  There was a wid..."
            ]
          },
          "metadata": {
            "tags": []
          },
          "execution_count": 12
        }
      ]
    },
    {
      "cell_type": "code",
      "metadata": {
        "colab": {
          "base_uri": "https://localhost:8080/",
          "height": 69
        },
        "id": "uDCYPWui2j67",
        "outputId": "eed5b004-9c4b-4458-c319-aab3811f3bfa"
      },
      "source": [
        "df['Text'][6]"
      ],
      "execution_count": null,
      "outputs": [
        {
          "output_type": "execute_result",
          "data": {
            "application/vnd.google.colaboratory.intrinsic+json": {
              "type": "string"
            },
            "text/plain": [
              "\"This saltwater taffy had great flavors and was very soft and chewy.  Each candy was individually wrapped well.  None of the candies were stuck together, which did happen in the expensive version, Fralinger's.  Would highly recommend this candy!  I served it at a beach-themed party and everyone loved it!\""
            ]
          },
          "metadata": {
            "tags": []
          },
          "execution_count": 13
        }
      ]
    },
    {
      "cell_type": "code",
      "metadata": {
        "id": "CqfFuDBG9YQC"
      },
      "source": [
        "from datasets import Dataset\r\n",
        "train_data=Dataset.from_pandas(df[:550000])\r\n",
        "val_data=Dataset.from_pandas(df[550000:555000])\r\n",
        "test_data=Dataset.from_pandas(df[556000:558000])"
      ],
      "execution_count": null,
      "outputs": []
    },
    {
      "cell_type": "code",
      "metadata": {
        "colab": {
          "base_uri": "https://localhost:8080/",
          "height": 281
        },
        "id": "nkGfwQXPMA6s",
        "outputId": "8a744f4f-ff9a-4625-aed8-04ec5ce914b7"
      },
      "source": [
        "import matplotlib.pyplot as plt\r\n",
        "\r\n",
        "text_word_count = []\r\n",
        "summary_word_count = []\r\n",
        "\r\n",
        "# populate the lists with sentence lengths\r\n",
        "for i in df['Text']:\r\n",
        "      text_word_count.append(len(i.split()))\r\n",
        "\r\n",
        "for i in df['Summary']:\r\n",
        "      summary_word_count.append(len(i.split()))\r\n",
        "\r\n",
        "length_df = pd.DataFrame({'text':text_word_count, 'summary':summary_word_count})\r\n",
        "\r\n",
        "length_df.hist(bins = 30)\r\n",
        "plt.show()"
      ],
      "execution_count": null,
      "outputs": [
        {
          "output_type": "display_data",
          "data": {
            "image/png": "[encoded data removed]",
            "text/plain": [
              "<Figure size 432x288 with 2 Axes>"
            ]
          },
          "metadata": {
            "tags": [],
            "needs_background": "light"
          }
        }
      ]
    },
    {
      "cell_type": "code",
      "metadata": {
        "id": "NE_EXzz8_Jpa",
        "colab": {
          "base_uri": "https://localhost:8080/",
          "height": 163,
          "referenced_widgets": [
            "988f85a37f3a4428a93702a44b2b67b1",
            "63d9bd8d9b554e6babde6d4bcfe26b3f",
            "23b6e818396f4dae8537cf445bbd71f3",
            "7cd7a71c1aa94a3ca09d7a948a88d0b6",
            "3dbca18c32db49a08588eb35e067e9e2",
            "df9defc3aa384f718cf6775a5d0608c0",
            "ddca4b25baea4a8fb9e149117210a0ce",
            "0a8e9f6ee2f04c268b08346baa74aa58",
            "42e0322ada5a416181898a078703812e",
            "5aee6bebd71c4341bc388d07e3b77a67",
            "59c05c6ea8a145ba946ef779ffaa222c",
            "0472a15b104249c39fde7d61dab79f4c",
            "6614bebdc51a432081a98d73715d4009",
            "a8c2cdfe5d524b57848a03af757b53d7",
            "f3e316de79b945909ecebbb2a9040955",
            "3362e18cadc345b087994351b1b8bdab",
            "1869e1b9d9d04ec4bd8ed56a61e55585",
            "07511bc8eb604749b38f3e9c1a689725",
            "e76841d123bb4f3aae12d47e50b98f1b",
            "82582c8b24c54b4098bd734720eb9b58",
            "a20034f72a584ceba6303a31fce84296",
            "5d53df1c294c4c59830f98e52a2ac964",
            "d7ae8ca596c94760bbecdb9a952b7965",
            "bdc4ec728f884dc6a310a0c3f8661514"
          ]
        },
        "outputId": "a610ea9f-2fa7-422d-9a59-b2176c6d09c8"
      },
      "source": [
        "#Made from the core of GPT2 using byte level encoding\r\n",
        "from transformers import BartTokenizerFast\r\n",
        "\r\n",
        "tokenizer = BartTokenizerFast.from_pretrained(\"facebook/bart-base\")\r\n",
        "tokenizer.bos_token = tokenizer.cls_token\r\n",
        "tokenizer.eos_token = tokenizer.sep_token"
      ],
      "execution_count": null,
      "outputs": [
        {
          "output_type": "display_data",
          "data": {
            "application/vnd.jupyter.widget-view+json": {
              "model_id": "988f85a37f3a4428a93702a44b2b67b1",
              "version_minor": 0,
              "version_major": 2
            },
            "text/plain": [
              "HBox(children=(FloatProgress(value=0.0, description='Downloading', max=898823.0, style=ProgressStyle(descripti…"
            ]
          },
          "metadata": {
            "tags": []
          }
        },
        {
          "output_type": "stream",
          "text": [
            "\n"
          ],
          "name": "stdout"
        },
        {
          "output_type": "display_data",
          "data": {
            "application/vnd.jupyter.widget-view+json": {
              "model_id": "42e0322ada5a416181898a078703812e",
              "version_minor": 0,
              "version_major": 2
            },
            "text/plain": [
              "HBox(children=(FloatProgress(value=0.0, description='Downloading', max=456318.0, style=ProgressStyle(descripti…"
            ]
          },
          "metadata": {
            "tags": []
          }
        },
        {
          "output_type": "stream",
          "text": [
            "\n"
          ],
          "name": "stdout"
        },
        {
          "output_type": "display_data",
          "data": {
            "application/vnd.jupyter.widget-view+json": {
              "model_id": "1869e1b9d9d04ec4bd8ed56a61e55585",
              "version_minor": 0,
              "version_major": 2
            },
            "text/plain": [
              "HBox(children=(FloatProgress(value=0.0, description='Downloading', max=1355863.0, style=ProgressStyle(descript…"
            ]
          },
          "metadata": {
            "tags": []
          }
        },
        {
          "output_type": "stream",
          "text": [
            "\n"
          ],
          "name": "stdout"
        }
      ]
    },
    {
      "cell_type": "code",
      "metadata": {
        "id": "ieGUe6yF_kzf"
      },
      "source": [
        ""
      ],
      "execution_count": null,
      "outputs": []
    },
    {
      "cell_type": "code",
      "metadata": {
        "id": "Ie8teowVAAYS"
      },
      "source": [
        ""
      ],
      "execution_count": null,
      "outputs": []
    },
    {
      "cell_type": "code",
      "metadata": {
        "id": "j5KJ8oCpCMsL"
      },
      "source": [
        ""
      ],
      "execution_count": null,
      "outputs": []
    },
    {
      "cell_type": "code",
      "metadata": {
        "id": "7naMUaLXNm4u"
      },
      "source": [
        ""
      ],
      "execution_count": null,
      "outputs": []
    },
    {
      "cell_type": "code",
      "metadata": {
        "colab": {
          "base_uri": "https://localhost:8080/",
          "height": 114,
          "referenced_widgets": [
            "9eafc04932ab45f8a3cc0fc8d0260daa",
            "c23e315140884833b81298d45b4244b6",
            "38b86c0ca3234b78bf8c3189e8ac91a3",
            "9fa66a2efc2d402d869eaa1b63fcc437",
            "64f7330bdead41728d32498bff26fb22",
            "1e9443e974674a9a9840ce7555e48e11",
            "4bffee5d01c84785bd72ff7f51f83cd3",
            "4baab5de7ffe494789f19acd620daba4",
            "a6ae67e095a04fa5a2c6ef191a93dbea",
            "5c37806508274d92bdbfa187a2a53f4c",
            "01c01df2776d49aea8b85b88f376c872",
            "a95fa0dea9af43bfa375b8c69cd8d974",
            "2c7b3afc4d3442a2baf6ef8646f11ca6",
            "cd69d7504b904dea8082ba03090ba0a1",
            "865d587d29a248c18961bcbef26a1354",
            "be31139449f045e28fe86b37f57f950c"
          ]
        },
        "id": "0a24l7kECvDA",
        "outputId": "b43ee82e-9122-4418-ba4b-465f3ef38d87"
      },
      "source": [
        "encoder_max_length=40\r\n",
        "decoder_max_length=6\r\n",
        "\r\n",
        "batch_size=256 \r\n",
        "#change to batch[\"Text\"] and batch[\"Summary\"] for amazon review dataset\r\n",
        "def process_data_to_model_inputs(batch):\r\n",
        "  #tokenizer() will convert the text into tokens and padding for combining the tokens\r\n",
        "  inputs = tokenizer.batch_encode_plus(batch[\"Text\"], padding=\"max_length\", truncation=True, max_length=encoder_max_length)\r\n",
        "  outputs = tokenizer.batch_encode_plus(batch[\"Summary\"], padding=\"max_length\", truncation=True, max_length=decoder_max_length)\r\n",
        "  #These are the tokens : input ids, attention mask etc.\r\n",
        "  batch[\"input_ids\"] = inputs.input_ids\r\n",
        "  batch[\"attention_mask\"] = inputs.attention_mask\r\n",
        "  #batch[\"decoder_input_ids\"] = outputs.input_ids\r\n",
        "  #batch[\"decoder_attention_mask\"] = outputs.attention_mask\r\n",
        "  batch[\"labels\"] = outputs.input_ids.copy()\r\n",
        "\r\n",
        "  batch[\"labels\"] = [[-100 if token == tokenizer.pad_token_id else token for token in labels] for labels in batch[\"labels\"]]\r\n",
        "\r\n",
        "  return batch\r\n",
        "\r\n",
        "train_data = train_data.map(\r\n",
        "    process_data_to_model_inputs, \r\n",
        "    batched=True, \r\n",
        "    batch_size=batch_size, \r\n",
        "    remove_columns=[\"Text\", \"Summary\"]\r\n",
        ")\r\n",
        "train_data.set_format(\r\n",
        "    type=\"torch\", columns=[\"input_ids\", \"attention_mask\", \"labels\"],\r\n",
        ")\r\n",
        "\r\n",
        "val_data = val_data.map(\r\n",
        "    process_data_to_model_inputs, \r\n",
        "    batched=True, \r\n",
        "    batch_size=batch_size, \r\n",
        "    remove_columns=[\"Text\", \"Summary\"]\r\n",
        ")\r\n",
        "val_data.set_format(\r\n",
        "    type=\"torch\", columns=[\"input_ids\", \"attention_mask\", \"labels\"],\r\n",
        ")"
      ],
      "execution_count": null,
      "outputs": [
        {
          "output_type": "display_data",
          "data": {
            "application/vnd.jupyter.widget-view+json": {
              "model_id": "9eafc04932ab45f8a3cc0fc8d0260daa",
              "version_minor": 0,
              "version_major": 2
            },
            "text/plain": [
              "HBox(children=(FloatProgress(value=0.0, max=2149.0), HTML(value='')))"
            ]
          },
          "metadata": {
            "tags": []
          }
        },
        {
          "output_type": "stream",
          "text": [
            "\n"
          ],
          "name": "stdout"
        },
        {
          "output_type": "display_data",
          "data": {
            "application/vnd.jupyter.widget-view+json": {
              "model_id": "a6ae67e095a04fa5a2c6ef191a93dbea",
              "version_minor": 0,
              "version_major": 2
            },
            "text/plain": [
              "HBox(children=(FloatProgress(value=0.0, max=20.0), HTML(value='')))"
            ]
          },
          "metadata": {
            "tags": []
          }
        },
        {
          "output_type": "stream",
          "text": [
            "\n"
          ],
          "name": "stdout"
        }
      ]
    },
    {
      "cell_type": "code",
      "metadata": {
        "colab": {
          "base_uri": "https://localhost:8080/"
        },
        "id": "Tx84kdZID-ps",
        "outputId": "e2147af4-dcb5-40be-d587-1065e5c301d4"
      },
      "source": [
        "train_data"
      ],
      "execution_count": null,
      "outputs": [
        {
          "output_type": "execute_result",
          "data": {
            "text/plain": [
              "Dataset(features: {'__index_level_0__': Value(dtype='int64', id=None), 'attention_mask': Sequence(feature=Value(dtype='int64', id=None), length=-1, id=None), 'input_ids': Sequence(feature=Value(dtype='int64', id=None), length=-1, id=None), 'labels': Sequence(feature=Value(dtype='int64', id=None), length=-1, id=None)}, num_rows: 550000)"
            ]
          },
          "metadata": {
            "tags": []
          },
          "execution_count": 18
        }
      ]
    },
    {
      "cell_type": "code",
      "metadata": {
        "id": "A-USZwYIL0NX"
      },
      "source": [
        ""
      ],
      "execution_count": null,
      "outputs": []
    },
    {
      "cell_type": "code",
      "metadata": {
        "colab": {
          "base_uri": "https://localhost:8080/"
        },
        "id": "v1kmNwLcEUSE",
        "outputId": "f50766ef-fed0-40b5-bf78-ddf406310b31"
      },
      "source": [
        "val_data"
      ],
      "execution_count": null,
      "outputs": [
        {
          "output_type": "execute_result",
          "data": {
            "text/plain": [
              "Dataset(features: {'__index_level_0__': Value(dtype='int64', id=None), 'attention_mask': Sequence(feature=Value(dtype='int64', id=None), length=-1, id=None), 'input_ids': Sequence(feature=Value(dtype='int64', id=None), length=-1, id=None), 'labels': Sequence(feature=Value(dtype='int64', id=None), length=-1, id=None)}, num_rows: 5000)"
            ]
          },
          "metadata": {
            "tags": []
          },
          "execution_count": 19
        }
      ]
    },
    {
      "cell_type": "markdown",
      "metadata": {
        "id": "EXTMO4ib0W3c"
      },
      "source": [
        "# **Using Bart**"
      ]
    },
    {
      "cell_type": "code",
      "metadata": {
        "id": "rVrIMz9iFsJI",
        "colab": {
          "base_uri": "https://localhost:8080/",
          "height": 114,
          "referenced_widgets": [
            "2c4d4f7fe7f84ff5ab772bcabdbbcacc",
            "24e16ae33a8e4068887f7c137ae3ac42",
            "a7f894350d7c47d5a2e1b1a39d0f056c",
            "daaec0a8144b45b0a60fdd893c21a525",
            "af255ce85aee44e287cf720e4c0b37a5",
            "17caa703477e4b6ba3b4bba75e39b6ea",
            "0240bcfbbf1145778120a9e142e39832",
            "c59f7880477745c3bb0fdda6fc277b06",
            "84f400fa06144e93a8bf04b9f7aae779",
            "25ce5623db0c4590a25e96804e263d10",
            "5aec8cb60cf24e8aab375084721b71cf",
            "7f2a5e2ce06341cb92b92c4e74f823f5",
            "c3183d86e853441983d8ea34c8420611",
            "b885d3208ade4aa49e8e38cb8bf44343",
            "c1272151df464ab88ffc91a3dc47bf6c",
            "a36da5c783d5472ba2c28eae21f667c0"
          ]
        },
        "outputId": "f850153c-b354-4e31-c6bb-a000ae3ed5a4"
      },
      "source": [
        "from transformers import BartForConditionalGeneration, BartConfig,BartModel\r\n",
        "\r\n",
        "bart_premodel = BartForConditionalGeneration.from_pretrained('facebook/bart-base')"
      ],
      "execution_count": null,
      "outputs": [
        {
          "output_type": "display_data",
          "data": {
            "application/vnd.jupyter.widget-view+json": {
              "model_id": "2c4d4f7fe7f84ff5ab772bcabdbbcacc",
              "version_minor": 0,
              "version_major": 2
            },
            "text/plain": [
              "HBox(children=(FloatProgress(value=0.0, description='Downloading', max=1553.0, style=ProgressStyle(description…"
            ]
          },
          "metadata": {
            "tags": []
          }
        },
        {
          "output_type": "stream",
          "text": [
            "\n"
          ],
          "name": "stdout"
        },
        {
          "output_type": "display_data",
          "data": {
            "application/vnd.jupyter.widget-view+json": {
              "model_id": "84f400fa06144e93a8bf04b9f7aae779",
              "version_minor": 0,
              "version_major": 2
            },
            "text/plain": [
              "HBox(children=(FloatProgress(value=0.0, description='Downloading', max=557941479.0, style=ProgressStyle(descri…"
            ]
          },
          "metadata": {
            "tags": []
          }
        },
        {
          "output_type": "stream",
          "text": [
            "\n"
          ],
          "name": "stdout"
        }
      ]
    },
    {
      "cell_type": "code",
      "metadata": {
        "id": "_QbWLIVLITYK"
      },
      "source": [
        "#Change the configurations for more fine tuning\r\n",
        "\r\n",
        "configuration = BartConfig()\r\n",
        "\r\n",
        "#Use this for some cases \r\n",
        "#bart_pre1_optional = BartModel(configuration)\r\n",
        "\r\n",
        "# set special tokens\r\n",
        "bart_premodel.config.decoder_start_token_id = tokenizer.bos_token_id                                             \r\n",
        "bart_premodel.config.eos_token_id = tokenizer.eos_token_id\r\n",
        "\r\n",
        "#bart_premodel.config.activation_function = 'gelu'\r\n",
        "# sensible parameters for beam search\r\n",
        "# set decoding params                               \r\n",
        "bart_premodel.config.max_length = 40 \r\n",
        "#bart_premodel.config.min_length = 30\r\n",
        "bart_premodel.config.early_stopping = True\r\n",
        "bart_premodel.config.no_repeat_ngram_size = 3\r\n",
        "bart_premodel.config.length_penalty = 2.0\r\n",
        "bart_premodel.config.num_beams = 4\r\n",
        "bart_premodel.config.vocab_size = configuration.vocab_size\r\n",
        "bart_premodel.encoder_layerdrop = 0.2"
      ],
      "execution_count": null,
      "outputs": []
    },
    {
      "cell_type": "code",
      "metadata": {
        "id": "149SWgR_3hPJ"
      },
      "source": [
        ""
      ],
      "execution_count": null,
      "outputs": []
    },
    {
      "cell_type": "code",
      "metadata": {
        "id": "i5hcSTAxWxwT"
      },
      "source": [
        ""
      ],
      "execution_count": null,
      "outputs": []
    },
    {
      "cell_type": "code",
      "metadata": {
        "id": "rov4ZblzQdHw"
      },
      "source": [
        ""
      ],
      "execution_count": null,
      "outputs": []
    },
    {
      "cell_type": "code",
      "metadata": {
        "id": "lnvfCrUfQSfK"
      },
      "source": [
        ""
      ],
      "execution_count": null,
      "outputs": []
    },
    {
      "cell_type": "code",
      "metadata": {
        "id": "IiOVdLceSgcl"
      },
      "source": [
        ""
      ],
      "execution_count": null,
      "outputs": []
    },
    {
      "cell_type": "markdown",
      "metadata": {
        "id": "UlJxjnLQxthS"
      },
      "source": [
        "# **Seq2Seq Trainer**"
      ]
    },
    {
      "cell_type": "code",
      "metadata": {
        "id": "Q1ZMVUaZU7f0"
      },
      "source": [
        "from typing import Any, Dict, List, Optional, Tuple, Union\r\n",
        "\r\n",
        "import torch\r\n",
        "from packaging import version\r\n",
        "from torch import nn\r\n",
        "from torch.utils.data.dataset import Dataset\r\n",
        "\r\n",
        "from transformers.trainer import Trainer\r\n",
        "from transformers.trainer_utils import PredictionOutput\r\n",
        "from transformers.utils import logging\r\n",
        "\r\n",
        "\r\n",
        "if version.parse(torch.__version__) >= version.parse(\"1.6\"):\r\n",
        "    from torch.cuda.amp import autocast\r\n",
        "\r\n",
        "\r\n",
        "logger = logging.get_logger(__name__)\r\n",
        "\r\n",
        "\r\n",
        "class Seq2SeqTrainer(Trainer):\r\n",
        "    def evaluate(\r\n",
        "        self,\r\n",
        "        eval_dataset: Optional[Dataset] = None,\r\n",
        "        ignore_keys: Optional[List[str]] = None,\r\n",
        "        metric_key_prefix: str = \"eval\",\r\n",
        "        max_length: Optional[int] = None,\r\n",
        "        num_beams: Optional[int] = None,\r\n",
        "    ) -> Dict[str, float]:\r\n",
        "        \"\"\"\r\n",
        "        Run evaluation and returns metrics.\r\n",
        "        The calling script will be responsible for providing a method to compute metrics, as they are task-dependent\r\n",
        "        (pass it to the init :obj:`compute_metrics` argument).\r\n",
        "        You can also subclass and override this method to inject custom behavior.\r\n",
        "        Args:\r\n",
        "            eval_dataset (:obj:`Dataset`, `optional`):\r\n",
        "                Pass a dataset if you wish to override :obj:`self.eval_dataset`. If it is an :obj:`datasets.Dataset`,\r\n",
        "                columns not accepted by the ``model.forward()`` method are automatically removed. It must implement the\r\n",
        "                :obj:`__len__` method.\r\n",
        "            ignore_keys (:obj:`List[str]`, `optional`):\r\n",
        "                A list of keys in the output of your model (if it is a dictionary) that should be ignored when\r\n",
        "                gathering predictions.\r\n",
        "            metric_key_prefix (:obj:`str`, `optional`, defaults to :obj:`\"eval\"`):\r\n",
        "                An optional prefix to be used as the metrics key prefix. For example the metrics \"bleu\" will be named\r\n",
        "                \"eval_bleu\" if the prefix is ``\"eval\"`` (default)\r\n",
        "            max_length (:obj:`int`, `optional`):\r\n",
        "                The maximum target length to use when predicting with the generate method.\r\n",
        "            num_beams (:obj:`int`, `optional`):\r\n",
        "                Number of beams for beam search that will be used when predicting with the generate method. 1 means no\r\n",
        "                beam search.\r\n",
        "        Returns:\r\n",
        "            A dictionary containing the evaluation loss and the potential metrics computed from the predictions. The\r\n",
        "            dictionary also contains the epoch number which comes from the training state.\r\n",
        "        \"\"\"\r\n",
        "        self._max_length = max_length\r\n",
        "        self._num_beams = num_beams\r\n",
        "        return super().evaluate(eval_dataset, ignore_keys=ignore_keys, metric_key_prefix=metric_key_prefix)\r\n",
        "\r\n",
        "    def predict(\r\n",
        "        self,\r\n",
        "        test_dataset: Dataset,\r\n",
        "        ignore_keys: Optional[List[str]] = None,\r\n",
        "        metric_key_prefix: str = \"eval\",\r\n",
        "        max_length: Optional[int] = None,\r\n",
        "        num_beams: Optional[int] = None,\r\n",
        "    ) -> PredictionOutput:\r\n",
        "        \"\"\"\r\n",
        "        Run prediction and returns predictions and potential metrics.\r\n",
        "        Depending on the dataset and your use case, your test dataset may contain labels. In that case, this method\r\n",
        "        will also return metrics, like in :obj:`evaluate()`.\r\n",
        "        Args:\r\n",
        "            test_dataset (:obj:`Dataset`):\r\n",
        "                Dataset to run the predictions on. If it is an :obj:`datasets.Dataset`, columns not accepted by the\r\n",
        "                ``model.forward()`` method are automatically removed. Has to implement the method :obj:`__len__`\r\n",
        "            ignore_keys (:obj:`List[str]`, `optional`):\r\n",
        "                A list of keys in the output of your model (if it is a dictionary) that should be ignored when\r\n",
        "                gathering predictions.\r\n",
        "            metric_key_prefix (:obj:`str`, `optional`, defaults to :obj:`\"eval\"`):\r\n",
        "                An optional prefix to be used as the metrics key prefix. For example the metrics \"bleu\" will be named\r\n",
        "                \"eval_bleu\" if the prefix is ``\"eval\"`` (default)\r\n",
        "            max_length (:obj:`int`, `optional`):\r\n",
        "                The maximum target length to use when predicting with the generate method.\r\n",
        "            num_beams (:obj:`int`, `optional`):\r\n",
        "                Number of beams for beam search that will be used when predicting with the generate method. 1 means no\r\n",
        "                beam search.\r\n",
        "        .. note::\r\n",
        "            If your predictions or labels have different sequence lengths (for instance because you're doing dynamic\r\n",
        "            padding in a token classification task) the predictions will be padded (on the right) to allow for\r\n",
        "            concatenation into one array. The padding index is -100.\r\n",
        "        Returns: `NamedTuple` A namedtuple with the following keys:\r\n",
        "            - predictions (:obj:`np.ndarray`): The predictions on :obj:`test_dataset`.\r\n",
        "            - label_ids (:obj:`np.ndarray`, `optional`): The labels (if the dataset contained some).\r\n",
        "            - metrics (:obj:`Dict[str, float]`, `optional`): The potential dictionary of metrics (if the dataset\r\n",
        "              contained labels).\r\n",
        "        \"\"\"\r\n",
        "        self._max_length = max_length\r\n",
        "        self._num_beams = num_beams\r\n",
        "        return super().predict(test_dataset, ignore_keys=ignore_keys, metric_key_prefix=metric_key_prefix)\r\n",
        "\r\n",
        "    def prediction_step(\r\n",
        "        self,\r\n",
        "        model: nn.Module,\r\n",
        "        inputs: Dict[str, Union[torch.Tensor, Any]],\r\n",
        "        prediction_loss_only: bool,\r\n",
        "        ignore_keys: Optional[List[str]] = None,\r\n",
        "    ) -> Tuple[Optional[float], Optional[torch.Tensor], Optional[torch.Tensor]]:\r\n",
        "        \"\"\"\r\n",
        "        Perform an evaluation step on :obj:`model` using obj:`inputs`.\r\n",
        "        Subclass and override to inject custom behavior.\r\n",
        "        Args:\r\n",
        "            model (:obj:`nn.Module`):\r\n",
        "                The model to evaluate.\r\n",
        "            inputs (:obj:`Dict[str, Union[torch.Tensor, Any]]`):\r\n",
        "                The inputs and targets of the model.\r\n",
        "                The dictionary will be unpacked before being fed to the model. Most models expect the targets under the\r\n",
        "                argument :obj:`labels`. Check your model's documentation for all accepted arguments.\r\n",
        "            prediction_loss_only (:obj:`bool`):\r\n",
        "                Whether or not to return the loss only.\r\n",
        "        Return:\r\n",
        "            Tuple[Optional[float], Optional[torch.Tensor], Optional[torch.Tensor]]: A tuple with the loss, logits and\r\n",
        "            labels (each being optional).\r\n",
        "        \"\"\"\r\n",
        "\r\n",
        "        if not self.args.predict_with_generate or prediction_loss_only:\r\n",
        "            return super().prediction_step(\r\n",
        "                model, inputs, prediction_loss_only=prediction_loss_only, ignore_keys=ignore_keys\r\n",
        "            )\r\n",
        "\r\n",
        "        has_labels = \"labels\" in inputs\r\n",
        "        inputs = self._prepare_inputs(inputs)\r\n",
        "\r\n",
        "        gen_kwargs = {\r\n",
        "            \"max_length\": self._max_length if self._max_length is not None else self.model.config.max_length,\r\n",
        "            \"num_beams\": self._num_beams if self._num_beams is not None else self.model.config.num_beams,\r\n",
        "        }\r\n",
        "\r\n",
        "        generated_tokens = self.model.generate(\r\n",
        "            inputs[\"input_ids\"],\r\n",
        "            attention_mask=inputs[\"attention_mask\"],\r\n",
        "            **gen_kwargs,\r\n",
        "        )\r\n",
        "        # in case the batch is shorter than max length, the output should be padded\r\n",
        "        if generated_tokens.shape[-1] < gen_kwargs[\"max_length\"]:\r\n",
        "            generated_tokens = self._pad_tensors_to_max_len(generated_tokens, gen_kwargs[\"max_length\"])\r\n",
        "\r\n",
        "        with torch.no_grad():\r\n",
        "            if self.use_amp:\r\n",
        "                with autocast():\r\n",
        "                    outputs = model(**inputs)\r\n",
        "            else:\r\n",
        "                outputs = model(**inputs)\r\n",
        "            if has_labels:\r\n",
        "                if self.label_smoother is not None:\r\n",
        "                    loss = self.label_smoother(outputs, inputs[\"labels\"]).mean().detach()\r\n",
        "                else:\r\n",
        "                    loss = (outputs[\"loss\"] if isinstance(outputs, dict) else outputs[0]).mean().detach()\r\n",
        "            else:\r\n",
        "                loss = None\r\n",
        "\r\n",
        "        if self.args.prediction_loss_only:\r\n",
        "            return (loss, None, None)\r\n",
        "\r\n",
        "        labels = inputs[\"labels\"]\r\n",
        "        if labels.shape[-1] < gen_kwargs[\"max_length\"]:\r\n",
        "            labels = self._pad_tensors_to_max_len(labels, gen_kwargs[\"max_length\"])\r\n",
        "\r\n",
        "        return (loss, generated_tokens, labels)\r\n",
        "\r\n",
        "    def _pad_tensors_to_max_len(self, tensor, max_length):\r\n",
        "        if self.tokenizer is None:\r\n",
        "            raise ValueError(\r\n",
        "                f\"Tensor need to be padded to `max_length={max_length}` but no tokenzier was passed when creating \"\r\n",
        "                \"this `Trainer`. Make sure to create your `Trainer` with the appropriate tokenizer.\"\r\n",
        "            )\r\n",
        "        # If PAD token is not defined at least EOS token has to be defined\r\n",
        "        pad_token_id = (\r\n",
        "            self.tokenizer.pad_token_id if self.tokenizer.pad_token_id is not None else self.tokenizer.eos_token_id\r\n",
        "        )\r\n",
        "\r\n",
        "        padded_tensor = pad_token_id * torch.ones(\r\n",
        "            (tensor.shape[0], max_length), dtype=tensor.dtype, device=tensor.device\r\n",
        "        )\r\n",
        "        padded_tensor[:, : tensor.shape[-1]] = tensor\r\n",
        "        return padded_tensor"
      ],
      "execution_count": null,
      "outputs": []
    },
    {
      "cell_type": "code",
      "metadata": {
        "id": "-U9ZLlc_SvS3"
      },
      "source": [
        "@dataclass\r\n",
        "class Seq2SeqTrainingArguments(TrainingArguments):\r\n",
        "    \"\"\"\r\n",
        "    sortish_sampler (:obj:`bool`, `optional`, defaults to :obj:`False`):\r\n",
        "        Whether to use a `sortish sampler` or not. Only possible if the underlying datasets are `Seq2SeqDataset` for\r\n",
        "        now but will become generally available in the near future.\r\n",
        "        It sorts the inputs according to lengths in order to minimize the padding size, with a bit of randomness for\r\n",
        "        the training set.\r\n",
        "    predict_with_generate (:obj:`bool`, `optional`, defaults to :obj:`False`):\r\n",
        "        Whether to use generate to calculate generative metrics (ROUGE, BLEU).\r\n",
        "    \"\"\"\r\n",
        "\r\n",
        "    sortish_sampler: bool = field(default=False, metadata={\"help\": \"Whether to use SortishSampler or not.\"})\r\n",
        "\r\n",
        "    predict_with_generate: bool = field(\r\n",
        "        default=False, metadata={\"help\": \"Whether to use generate to calculate generative metrics (ROUGE, BLEU).\"}\r\n",
        "    )\r\n",
        "\r\n",
        "    label_smoothing: Optional[float] = field(\r\n",
        "        default=0.0, metadata={\"help\": \"The label smoothing epsilon to apply (if not zero).\"}\r\n",
        "    )\r\n",
        "\r\n",
        "    adafactor: bool = field(default=False, metadata={\"help\": \"whether to use adafactor\"})\r\n",
        "\r\n",
        "    encoder_layerdrop: Optional[float] = field(\r\n",
        "        default=0.2, metadata={\"help\": \"Encoder layer dropout probability. Goes into model.config.\"}\r\n",
        "    )\r\n",
        "\r\n",
        "#Layer drop rate as 0.2 for regularization\r\n",
        "    decoder_layerdrop: Optional[float] = field(\r\n",
        "        default=0.2, metadata={\"help\": \"Decoder layer dropout probability. Goes into model.config.\"}\r\n",
        "    )\r\n",
        "\r\n",
        "    dropout: Optional[float] = field(default=None, metadata={\"help\": \"Dropout probability. Goes into model.config.\"})\r\n",
        "    \r\n",
        "    attention_dropout: Optional[float] = field(\r\n",
        "        default=None, metadata={\"help\": \"Attention dropout probability. Goes into model.config.\"}\r\n",
        "    )\r\n",
        "\r\n",
        "    lr_scheduler: Optional[str] = field(\r\n",
        "        default=\"linear\", metadata={\"help\": f\"Which lr scheduler to use.\"}\r\n",
        "    )"
      ],
      "execution_count": null,
      "outputs": []
    },
    {
      "cell_type": "code",
      "metadata": {
        "id": "c5bEbzTraF_5"
      },
      "source": [
        ""
      ],
      "execution_count": null,
      "outputs": []
    },
    {
      "cell_type": "markdown",
      "metadata": {
        "id": "qpyLhBkizWBP"
      },
      "source": [
        "# **Fine Tuning**"
      ]
    },
    {
      "cell_type": "code",
      "metadata": {
        "id": "Jvciu6ybS9ZS",
        "colab": {
          "base_uri": "https://localhost:8080/",
          "height": 66,
          "referenced_widgets": [
            "2cd7119931c0429ea953a8f26b3dc054",
            "0f644d5704234aee8dabdded38f00f2c",
            "630d63b103fc483cafd902ad4c758d92",
            "6a91795fb47b41b6ae963dd20594039d",
            "a8a9afe9c05d476aae6e38091bf9e10b",
            "b941351d54124d5b9185d18c5cd51bcc",
            "fdc7fdba99dc4c119db7bff9796e5cdf",
            "bb49912928a4499f8399a5fa26b0269b"
          ]
        },
        "outputId": "ad1d0ede-aabb-4c18-c7ab-7618a827baf7"
      },
      "source": [
        "import datasets\r\n",
        "# load rouge for validation\r\n",
        "rouge = datasets.load_metric(\"rouge\")\r\n",
        "\r\n",
        "def compute_metrics(pred):\r\n",
        "    labels_ids = pred.label_ids\r\n",
        "    pred_ids = pred.predictions\r\n",
        "\r\n",
        "    # all unnecessary tokens are removed\r\n",
        "    decoded_pred_str = tokenizer.batch_decode(pred_ids, skip_special_tokens=True)\r\n",
        "    #labels_ids[labels_ids == -100] = tokenizer.pad_token_id\r\n",
        "    if data_args.ignore_pad_token_for_loss:\r\n",
        "            # Replace -100 in the labels as we can't decode them.\r\n",
        "            labels_ids = np.where(labels_ids != -100, labels_ids, tokenizer.pad_token_id)\r\n",
        "\r\n",
        "    decoded_label_str = tokenizer.batch_decode(labels_ids, skip_special_tokens=True)\r\n",
        "\r\n",
        "    rouge_output = rouge.compute(predictions=decoded_pred_str, references=decoded_label_str, use_stemmer=True)\r\n",
        "    rouge_output = {key: value.mid.fmeasure * 100 for key, value in rouge_output.items()}\r\n",
        "\r\n",
        "    '''\r\n",
        "    return {\r\n",
        "        \"rouge2_precision\": round(rouge_output.precision, 4),\r\n",
        "        \"rouge2_recall\": round(rouge_output.recall, 4),\r\n",
        "        \"rouge2_fmeasure\": round(rouge_output.fmeasure, 4),\r\n",
        "    }\r\n",
        "    '''\r\n",
        "\r\n",
        "    #OR\r\n",
        "\r\n",
        "    prediction_lens = [np.count_nonzero(pred != tokenizer.pad_token_id) for pred in pred_ids]\r\n",
        "    rouge_output[\"gen_len\"] = np.mean(prediction_lens)\r\n",
        "    rouge_output = {k: round(v, 4) for k, v in result.items()}\r\n",
        "    print(rouge_output)\r\n",
        "    return rouge_output\r\n",
        "\r\n",
        "\r\n",
        "\r\n"
      ],
      "execution_count": null,
      "outputs": [
        {
          "output_type": "display_data",
          "data": {
            "application/vnd.jupyter.widget-view+json": {
              "model_id": "2cd7119931c0429ea953a8f26b3dc054",
              "version_minor": 0,
              "version_major": 2
            },
            "text/plain": [
              "HBox(children=(FloatProgress(value=0.0, description='Downloading', max=1656.0, style=ProgressStyle(description…"
            ]
          },
          "metadata": {
            "tags": []
          }
        },
        {
          "output_type": "stream",
          "text": [
            "\n"
          ],
          "name": "stdout"
        }
      ]
    },
    {
      "cell_type": "code",
      "metadata": {
        "id": "_ElfQtp4Z7_4"
      },
      "source": [
        "#import transformers.training_args"
      ],
      "execution_count": null,
      "outputs": []
    },
    {
      "cell_type": "code",
      "metadata": {
        "id": "loii1iGlUldu"
      },
      "source": [
        "#lr is 5e-5 by default\r\n",
        "# set training arguments - these params are not really tuned, feel free to change\r\n",
        "training_args = Seq2SeqTrainingArguments(\r\n",
        "    output_dir=\"./\",\r\n",
        "    per_device_train_batch_size=batch_size,\r\n",
        "    per_device_eval_batch_size=batch_size,\r\n",
        "    predict_with_generate=True,\r\n",
        "    #evaluate_during_training=True,\r\n",
        "    do_train=True,\r\n",
        "    do_eval=True,\r\n",
        "    logging_steps=1000,  #1000 for full training\r\n",
        "    save_steps=1000, #1000 for full training  \r\n",
        "    eval_steps=1500,  #1500 for full training\r\n",
        "    warmup_steps=1000, #1000 for full training\r\n",
        "    #max_steps=11, # delete for full training\r\n",
        "    overwrite_output_dir=True,\r\n",
        "    save_total_limit=1,\r\n",
        "    weight_decay = 0.01,\r\n",
        "    fp16=True, \r\n",
        "    num_train_epochs = 16, #16 for full\r\n",
        ")\r\n",
        "\r\n",
        "# instantiate trainer\r\n",
        "trainer = Seq2SeqTrainer(\r\n",
        "    model=bart_premodel,\r\n",
        "    args=training_args,\r\n",
        "    compute_metrics=compute_metrics,\r\n",
        "    train_dataset=train_data,\r\n",
        "    eval_dataset=val_data,\r\n",
        ")\r\n"
      ],
      "execution_count": null,
      "outputs": []
    },
    {
      "cell_type": "code",
      "metadata": {
        "id": "tntZguDfg1JM"
      },
      "source": [
        ""
      ],
      "execution_count": null,
      "outputs": []
    },
    {
      "cell_type": "code",
      "metadata": {
        "colab": {
          "base_uri": "https://localhost:8080/",
          "height": 183
        },
        "id": "wb-aOy9Pe7x0",
        "outputId": "b3397aba-4d3e-426a-f674-495bf75a697d"
      },
      "source": [
        "trainer.train()"
      ],
      "execution_count": null,
      "outputs": [
        {
          "output_type": "stream",
          "text": [
            "/usr/local/lib/python3.7/dist-packages/torch/optim/lr_scheduler.py:134: UserWarning: Detected call of `lr_scheduler.step()` before `optimizer.step()`. In PyTorch 1.1.0 and later, you should call them in the opposite order: `optimizer.step()` before `lr_scheduler.step()`.  Failure to do this will result in PyTorch skipping the first value of the learning rate schedule. See more details at https://pytorch.org/docs/stable/optim.html#how-to-adjust-learning-rate\n",
            "  \"https://pytorch.org/docs/stable/optim.html#how-to-adjust-learning-rate\", UserWarning)\n"
          ],
          "name": "stderr"
        },
        {
          "output_type": "display_data",
          "data": {
            "text/html": [
              "\n",
              "    <div>\n",
              "        <style>\n",
              "            /* Turns off some styling */\n",
              "            progress {\n",
              "                /* gets rid of default border in Firefox and Opera. */\n",
              "                border: none;\n",
              "                /* Needs to be in here for Safari polyfill so background images work as expected. */\n",
              "                background-size: auto;\n",
              "            }\n",
              "        </style>\n",
              "      \n",
              "      <progress value='31' max='34384' style='width:300px; height:20px; vertical-align: middle;'></progress>\n",
              "      [   31/34384 04:02 < 79:41:16, 0.12 it/s, Epoch 0.01/16]\n",
              "    </div>\n",
              "    <table border=\"1\" class=\"dataframe\">\n",
              "  <thead>\n",
              "    <tr style=\"text-align: left;\">\n",
              "      <th>Step</th>\n",
              "      <th>Training Loss</th>\n",
              "    </tr>\n",
              "  </thead>\n",
              "  <tbody>\n",
              "  </tbody>\n",
              "</table><p>"
            ],
            "text/plain": [
              "<IPython.core.display.HTML object>"
            ]
          },
          "metadata": {
            "tags": []
          }
        },
        {
          "output_type": "display_data",
          "data": {
            "text/html": [
              "\n",
              "    <div>\n",
              "        <style>\n",
              "            /* Turns off some styling */\n",
              "            progress {\n",
              "                /* gets rid of default border in Firefox and Opera. */\n",
              "                border: none;\n",
              "                /* Needs to be in here for Safari polyfill so background images work as expected. */\n",
              "                background-size: auto;\n",
              "            }\n",
              "        </style>\n",
              "      \n",
              "      <progress value='37' max='34384' style='width:300px; height:20px; vertical-align: middle;'></progress>\n",
              "      [   37/34384 04:52 < 79:49:08, 0.12 it/s, Epoch 0.02/16]\n",
              "    </div>\n",
              "    <table border=\"1\" class=\"dataframe\">\n",
              "  <thead>\n",
              "    <tr style=\"text-align: left;\">\n",
              "      <th>Step</th>\n",
              "      <th>Training Loss</th>\n",
              "    </tr>\n",
              "  </thead>\n",
              "  <tbody>\n",
              "  </tbody>\n",
              "</table><p>"
            ],
            "text/plain": [
              "<IPython.core.display.HTML object>"
            ]
          },
          "metadata": {
            "tags": []
          }
        }
      ]
    },
    {
      "cell_type": "markdown",
      "metadata": {
        "id": "clsHXBOGQ70w"
      },
      "source": [
        "# **Fine Tuned Model**"
      ]
    },
    {
      "cell_type": "code",
      "metadata": {
        "id": "mfwTC41Fs8aR"
      },
      "source": [
        "#We just copy the checkpoint to our drive and then use that checkpoint in from_pretrained() so that we dont have to execute the model again.\r\n",
        "!cp -r /content/checkpoint-20000 \"/content/drive/MyDrive/SGP sem 6\""
      ],
      "execution_count": null,
      "outputs": []
    },
    {
      "cell_type": "code",
      "metadata": {
        "id": "TsHU14a0tm1Z"
      },
      "source": [
        "#torch.cuda.memory_summary(device=None, abbreviated=False)\r\n",
        "torch.cuda.empty_cache()"
      ],
      "execution_count": null,
      "outputs": []
    },
    {
      "cell_type": "code",
      "metadata": {
        "id": "81whaANjS0fV"
      },
      "source": [
        ""
      ],
      "execution_count": null,
      "outputs": []
    },
    {
      "cell_type": "code",
      "metadata": {
        "id": "tISV4ue4rb62",
        "colab": {
          "base_uri": "https://localhost:8080/",
          "height": 82,
          "referenced_widgets": [
            "03c6e8ae3c1d41ff90d11759182ab5ed",
            "e2e378aba9ae4bd78964652a58dcfccd",
            "de92608c256e4979bcb3048aeadc9536",
            "5d844991dc424b4fa922715b03a35fea",
            "1fb1dec37c36470ab9d65652458e950c",
            "bfea49649ab143678a0ba6272f3edae2",
            "907efe15b51b4a0a94d8715eebb49442",
            "fa58f1faa4b3424f97e22c7c3459238a"
          ]
        },
        "outputId": "73f4bb7e-31ae-4dfa-b14e-6810769ac24b"
      },
      "source": [
        "import datasets\r\n",
        "from transformers import BartTokenizerFast, EncoderDecoderModel,BartForConditionalGeneration\r\n",
        "\r\n",
        "tokenizer = BartTokenizerFast.from_pretrained(\"facebook/bart-base\")\r\n",
        "model = BartForConditionalGeneration.from_pretrained(\"/content/drive/MyDrive/SGP sem 6/checkpoint-8400\")\r\n",
        "model.to(\"cuda\")\r\n",
        "batch_size = 4 #Change to 8000 for full training\r\n",
        "\r\n",
        "#test_data = datasets.load_dataset(\"cnn_dailymail\", \"3.0.0\", split=\"test\")\r\n",
        "\r\n",
        "# only use 16 training examples for notebook - DELETE LINE FOR FULL TRAINING\r\n",
        "#test_data = test_data.select(range(16))\r\n",
        "\r\n",
        "\r\n",
        "# map data correctly\r\n",
        "def generate_summary(batch):\r\n",
        "    # Tokenizer will automatically set [BOS] <text> [EOS]\r\n",
        "    inputs = tokenizer(batch[\"Text\"], padding=\"max_length\", truncation=True, max_length=1024, return_tensors=\"pt\")\r\n",
        "    input_ids = inputs.input_ids.to(\"cuda\")\r\n",
        "    attention_mask = inputs.attention_mask.to(\"cuda\")\r\n",
        "\r\n",
        "    outputs = model.generate(input_ids, attention_mask=attention_mask)\r\n",
        "\r\n",
        "    # all special tokens including will be removed\r\n",
        "    output_str = tokenizer.batch_decode(outputs, skip_special_tokens=True)\r\n",
        "\r\n",
        "    batch[\"pred\"] = output_str\r\n",
        "\r\n",
        "    return batch\r\n",
        "\r\n",
        "\r\n",
        "\r\n",
        "results = test_data.map(generate_summary, batched=True, batch_size=batch_size, remove_columns=[\"Text\"])\r\n",
        "\r\n",
        "pred_str = results[\"pred\"]\r\n",
        "label_str = results[\"Summary\"]\r\n",
        "\r\n",
        "#rouge_output = rouge.compute(predictions=pred_str, references=label_str, rouge_types=[\"rouge2\"])[\"rouge2\"].mid\r\n",
        "rouge_output = rouge.compute(predictions=pred_str, references=label_str, use_stemmer=True)\r\n",
        "# Extract a few results from ROUGE\r\n",
        "rouge_output = {key: value.mid.fmeasure * 100 for key, value in rouge_output.items()}\r\n",
        "\r\n",
        "print(rouge_output)"
      ],
      "execution_count": null,
      "outputs": [
        {
          "output_type": "display_data",
          "data": {
            "application/vnd.jupyter.widget-view+json": {
              "model_id": "03c6e8ae3c1d41ff90d11759182ab5ed",
              "version_minor": 0,
              "version_major": 2
            },
            "text/plain": [
              "HBox(children=(FloatProgress(value=0.0, max=500.0), HTML(value='')))"
            ]
          },
          "metadata": {
            "tags": []
          }
        },
        {
          "output_type": "stream",
          "text": [
            "\n",
            "{'rouge1': 20.928526000272512, 'rougeL': 20.639762918582967}\n"
          ],
          "name": "stdout"
        }
      ]
    },
    {
      "cell_type": "code",
      "metadata": {
        "id": "HkxRmwhCvQSU"
      },
      "source": [
        ""
      ],
      "execution_count": null,
      "outputs": []
    },
    {
      "cell_type": "code",
      "metadata": {
        "id": "PFQIJIZ6mZJB",
        "colab": {
          "base_uri": "https://localhost:8080/",
          "height": 35
        },
        "outputId": "419f505e-6a66-459a-e86f-ce6cea1541bb"
      },
      "source": [
        "pred_str[3]"
      ],
      "execution_count": null,
      "outputs": [
        {
          "output_type": "execute_result",
          "data": {
            "application/vnd.google.colaboratory.intrinsic+json": {
              "type": "string"
            },
            "text/plain": [
              "'Not the real thing'"
            ]
          },
          "metadata": {
            "tags": []
          },
          "execution_count": 32
        }
      ]
    },
    {
      "cell_type": "code",
      "metadata": {
        "id": "O0MmDoaMmtyp",
        "colab": {
          "base_uri": "https://localhost:8080/",
          "height": 35
        },
        "outputId": "34c6b193-f93b-49e1-872b-89bc6f0bea4f"
      },
      "source": [
        "label_str[3]"
      ],
      "execution_count": null,
      "outputs": [
        {
          "output_type": "execute_result",
          "data": {
            "application/vnd.google.colaboratory.intrinsic+json": {
              "type": "string"
            },
            "text/plain": [
              "'This is not the right Lavazza coffee'"
            ]
          },
          "metadata": {
            "tags": []
          },
          "execution_count": 33
        }
      ]
    },
    {
      "cell_type": "code",
      "metadata": {
        "id": "DwtMTkUhKeja",
        "colab": {
          "base_uri": "https://localhost:8080/",
          "height": 86
        },
        "outputId": "a4363bc5-ac2e-4560-f55f-4ca193d2c982"
      },
      "source": [
        "test_data['Text'][3]"
      ],
      "execution_count": null,
      "outputs": [
        {
          "output_type": "execute_result",
          "data": {
            "application/vnd.google.colaboratory.intrinsic+json": {
              "type": "string"
            },
            "text/plain": [
              "'What I received is not the real Lavazza coffee and I should know since I am from Italy and from the same area where this coffee is produced. When I opened the can, there was no coffee smell and when I made a cup it did not taste like the real thing. In fact, it tasted terrible. I usually buy the product from the local Italian food store and I can assure you what I received from Amazon was not the same thing. I am very disappointed and I will be very careful before I buy any food items from Amazon in the future since, apparently, they cannot be returned.'"
            ]
          },
          "metadata": {
            "tags": []
          },
          "execution_count": 34
        }
      ]
    },
    {
      "cell_type": "code",
      "metadata": {
        "id": "nvsPkZ5M6Yx7"
      },
      "source": [
        ""
      ],
      "execution_count": null,
      "outputs": []
    },
    {
      "cell_type": "markdown",
      "metadata": {
        "id": "D_puTCKd-ngv"
      },
      "source": [
        "# **Rouge Score**"
      ]
    },
    {
      "cell_type": "code",
      "metadata": {
        "id": "CgIK-B2-8eqt",
        "colab": {
          "base_uri": "https://localhost:8080/"
        },
        "outputId": "d109605d-807b-4fdb-fff7-cfe265c9e592"
      },
      "source": [
        "#Reference from : https://github.com/Arjun-Mota/hotel_reviews_summarization_with_huggingface_transformers/blob/master/pyrouge.py\r\n",
        "\r\n",
        "from __future__ import division\r\n",
        "from itertools import chain\r\n",
        "\r\n",
        "\r\n",
        "def get_unigram_count(tokens):\r\n",
        "    count_dict = dict()\r\n",
        "    for t in tokens:\r\n",
        "        if t in count_dict:\r\n",
        "            count_dict[t] += 1\r\n",
        "        else:\r\n",
        "            count_dict[t] = 1\r\n",
        "\r\n",
        "    return count_dict\r\n",
        "\r\n",
        "\r\n",
        "class Rouge:\r\n",
        "    beta = 1\r\n",
        "\r\n",
        "    @staticmethod\r\n",
        "    def my_lcs_grid(x, y):\r\n",
        "        n = len(x)\r\n",
        "        m = len(y)\r\n",
        "\r\n",
        "        table = [[0 for i in range(m + 1)] for j in range(n + 1)]\r\n",
        "\r\n",
        "        for j in range(m + 1):\r\n",
        "            for i in range(n + 1):\r\n",
        "                if i == 0 or j == 0:\r\n",
        "                    cell = (0, 'e')\r\n",
        "                elif x[i - 1] == y[j - 1]:\r\n",
        "                    cell = (table[i - 1][j - 1][0] + 1, '\\\\')\r\n",
        "                else:\r\n",
        "                    over = table[i - 1][j][0]\r\n",
        "                    left = table[i][j - 1][0]\r\n",
        "\r\n",
        "                    if left < over:\r\n",
        "                        cell = (over, '^')\r\n",
        "                    else:\r\n",
        "                        cell = (left, '<')\r\n",
        "\r\n",
        "                table[i][j] = cell\r\n",
        "\r\n",
        "        return table\r\n",
        "\r\n",
        "    @staticmethod\r\n",
        "    def my_lcs(x, y, mask_x):\r\n",
        "        table = Rouge.my_lcs_grid(x, y)\r\n",
        "        i = len(x)\r\n",
        "        j = len(y)\r\n",
        "\r\n",
        "        while i > 0 and j > 0:\r\n",
        "            move = table[i][j][1]\r\n",
        "            if move == '\\\\':\r\n",
        "                mask_x[i - 1] = 1\r\n",
        "                i -= 1\r\n",
        "                j -= 1\r\n",
        "            elif move == '^':\r\n",
        "                i -= 1\r\n",
        "            elif move == '<':\r\n",
        "                j -= 1\r\n",
        "\r\n",
        "        return mask_x\r\n",
        "\r\n",
        "    @staticmethod\r\n",
        "    def rouge_l(cand_sents, ref_sents):\r\n",
        "        lcs_scores = 0.0\r\n",
        "        cand_unigrams = get_unigram_count(chain(*cand_sents))\r\n",
        "        ref_unigrams = get_unigram_count(chain(*ref_sents))\r\n",
        "        for cand_sent in cand_sents:\r\n",
        "            cand_token_mask = [0 for t in cand_sent]\r\n",
        "            cand_len = len(cand_sent)\r\n",
        "            for ref_sent in ref_sents:\r\n",
        "                # aligns = []\r\n",
        "                # Rouge.lcs(ref_sent, cand_sent, aligns)\r\n",
        "                Rouge.my_lcs(cand_sent, ref_sent, cand_token_mask)\r\n",
        "\r\n",
        "                # for i in aligns:\r\n",
        "                #     ref_token_mask[i] = 1\r\n",
        "            # lcs = []\r\n",
        "            cur_lcs_score = 0.0\r\n",
        "            for i in range(cand_len):\r\n",
        "                if cand_token_mask[i]:\r\n",
        "                    token = cand_sent[i]\r\n",
        "                    if cand_unigrams[token] > 0 and ref_unigrams[token] > 0:\r\n",
        "                        cand_unigrams[token] -= 1\r\n",
        "                        ref_unigrams[token] -= 1\r\n",
        "                        cur_lcs_score += 1\r\n",
        "\r\n",
        "                        # lcs.append(token)\r\n",
        "\r\n",
        "            # print ' '.join(lcs)\r\n",
        "\r\n",
        "            lcs_scores += cur_lcs_score\r\n",
        "\r\n",
        "        # print \"lcs_scores: %d\" % lcs_scores\r\n",
        "        ref_words_count = sum(len(s) for s in ref_sents)\r\n",
        "        # print \"ref_words_count: %d\" % ref_words_count\r\n",
        "        cand_words_count = sum(len(s) for s in cand_sents)\r\n",
        "        # print \"cand_words_count: %d\" % cand_words_count\r\n",
        "\r\n",
        "        precision = lcs_scores / cand_words_count\r\n",
        "        recall = lcs_scores / ref_words_count\r\n",
        "        f_score = (1 + Rouge.beta ** 2) * precision * recall / (recall +\r\n",
        "                                                                Rouge.beta ** 2 * precision + 1e-7) + 1e-6  # prevent underflow\r\n",
        "        return precision, recall, f_score\r\n",
        "\r\n",
        "    # @staticmethod\r\n",
        "    # def rouge_2(cand_sents, ref_sents):\r\n",
        "    #     cand_bigram_counts = get_bigram_counts(cand_sents)\r\n",
        "    #     ref_bigram_counts = get_bigram_counts(ref_sents)\r\n",
        "\r\n",
        "\r\n",
        "if __name__ == '__main__':\r\n",
        "    r = Rouge()\r\n",
        "    # A simple eample of how rouge can be calculated\r\n",
        "    print(r.rouge_l([[1, 7, 6, 7, 5], [0, 2, 8, 3, 5]],\r\n",
        "                    [[1, 2, 3, 4, 5], [3, 9, 5]]))\r\n",
        "\r\n",
        "    # A more practical example of how it can be used for summary evaluation\r\n",
        "    system_generated_summary = \" The Kyrgyz President pushed through the law requiring the use of ink during the upcoming Parliamentary and Presidential elections In an effort to live up to its reputation in the 1990s as an island of democracy. The use of ink is one part of a general effort to show commitment towards more open elections. improper use of this type of ink can cause additional problems as the elections in Afghanistan showed. The use of ink and readers by itself is not a panacea for election ills.\"\r\n",
        "    manual_summmary = \" The use of invisible ink and ultraviolet readers in the elections of the Kyrgyz Republic which is a small, mountainous state of the former Soviet republic, causing both worries and guarded optimism among different sectors of the population. Though the actual technology behind the ink is not complicated, the presence of ultraviolet light (of the kind used to verify money) causes the ink to glow with a neon yellow light. But, this use of the new technology has caused a lot of problems. \"\r\n",
        "\r\n",
        "    print(r.rouge_l([system_generated_summary], [manual_summmary]))"
      ],
      "execution_count": null,
      "outputs": [
        {
          "output_type": "stream",
          "text": [
            "(0.5, 0.625, 0.5555565061728439)\n",
            "(0.4472049689440994, 0.44081632653061226, 0.4439886170118432)\n"
          ],
          "name": "stdout"
        }
      ]
    },
    {
      "cell_type": "markdown",
      "metadata": {
        "id": "9CFwkpz0_NTf"
      },
      "source": [
        "# **Evaluation**"
      ]
    },
    {
      "cell_type": "code",
      "metadata": {
        "id": "wx39DX7y7ce2",
        "colab": {
          "base_uri": "https://localhost:8080/"
        },
        "outputId": "41416735-f88a-43b8-c767-207a9c7c5ad7"
      },
      "source": [
        "import imp\r\n",
        "pyrouge = imp.new_module('pyrouge')\r\n",
        "\r\n",
        "bart_prec = []\r\n",
        "bart_rec = []\r\n",
        "bart_f1 = []\r\n",
        "\r\n",
        "ro = Rouge()\r\n",
        "\r\n",
        "for location in range(2000):\r\n",
        "  [p,r,f] = ro.rouge_l(pred_str[location], label_str[location])\r\n",
        "  bart_prec.append(p)\r\n",
        "  bart_rec.append(r)\r\n",
        "  bart_f1.append(f)\r\n",
        "\r\n",
        "bart_precision = sum(bart_prec)/len(bart_prec)\r\n",
        "bart_recall = sum(bart_rec)/len(bart_rec)\r\n",
        "bart_f1_score = sum(bart_f1)/len(bart_f1)\r\n",
        "\r\n",
        "print('*'*40+' BART SUMMARIZATION SCORE '+'*'*40)\r\n",
        "print('PRECISION | RECALL | F1 SCORE')\r\n",
        "print(str(round(bart_precision, 4))+'\\t   ', str(round(bart_recall, 4))+'\\t', str(round(bart_f1_score, 4)))\r\n",
        "print('-'*80)"
      ],
      "execution_count": null,
      "outputs": [
        {
          "output_type": "stream",
          "text": [
            "**************************************** BART SUMMARIZATION SCORE ****************************************\n",
            "PRECISION | RECALL | F1 SCORE\n",
            "0.5774\t    0.4053\t 0.4426\n",
            "--------------------------------------------------------------------------------\n"
          ],
          "name": "stdout"
        }
      ]
    },
    {
      "cell_type": "code",
      "metadata": {
        "id": "L_KflRtlH3P1"
      },
      "source": [
        ""
      ],
      "execution_count": null,
      "outputs": []
    },
    {
      "cell_type": "code",
      "metadata": {
        "id": "Gvx670suuhiQ"
      },
      "source": [
        "#Save the model\r\n",
        "model_save_name = 'summarizer.pt'\r\n",
        "path = F\"/content/drive/MyDrive/SGP sem 6/{model_save_name}\" \r\n",
        "torch.save(model.state_dict(), path)"
      ],
      "execution_count": null,
      "outputs": []
    },
    {
      "cell_type": "code",
      "metadata": {
        "id": "oWki_hGqu7Yl"
      },
      "source": [
        "#Load the model\r\n",
        "model_save_name = 'summarizer.pt'\r\n",
        "path = F\"/content/drive/MyDrive/SGP sem 6/{model_save_name}\"\r\n",
        "model.load_state_dict(torch.load(path))"
      ],
      "execution_count": null,
      "outputs": []
    }
  ]
}